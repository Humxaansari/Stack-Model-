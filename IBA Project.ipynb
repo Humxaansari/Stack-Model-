{
 "cells": [
  {
   "cell_type": "code",
   "execution_count": 3,
   "metadata": {
    "id": "rZ0VDIewxVr6"
   },
   "outputs": [],
   "source": [
    "import pandas as pd\n",
    "import numpy as np\n",
    "import seaborn as sns\n",
    "import matplotlib.pyplot as plt"
   ]
  },
  {
   "cell_type": "code",
   "execution_count": 4,
   "metadata": {
    "id": "LIj7As2ax65u"
   },
   "outputs": [],
   "source": [
    "heart = pd.read_csv('heart.csv')"
   ]
  },
  {
   "cell_type": "markdown",
   "metadata": {
    "id": "ESN50L32zNhK"
   },
   "source": [
    "## **DATA EXPLORATION**"
   ]
  },
  {
   "cell_type": "code",
   "execution_count": 5,
   "metadata": {
    "colab": {
     "base_uri": "https://localhost:8080/"
    },
    "id": "1PeU_hfkx-dN",
    "outputId": "96b6be9d-3d82-4b8a-82ad-f4810dbe6513"
   },
   "outputs": [
    {
     "name": "stdout",
     "output_type": "stream",
     "text": [
      "<class 'pandas.core.frame.DataFrame'>\n",
      "RangeIndex: 918 entries, 0 to 917\n",
      "Data columns (total 12 columns):\n",
      " #   Column          Non-Null Count  Dtype  \n",
      "---  ------          --------------  -----  \n",
      " 0   Age             918 non-null    int64  \n",
      " 1   Sex             918 non-null    object \n",
      " 2   ChestPainType   918 non-null    object \n",
      " 3   RestingBP       918 non-null    int64  \n",
      " 4   Cholesterol     918 non-null    int64  \n",
      " 5   FastingBS       918 non-null    int64  \n",
      " 6   RestingECG      918 non-null    object \n",
      " 7   MaxHR           918 non-null    int64  \n",
      " 8   ExerciseAngina  918 non-null    object \n",
      " 9   Oldpeak         918 non-null    float64\n",
      " 10  ST_Slope        918 non-null    object \n",
      " 11  HeartDisease    918 non-null    int64  \n",
      "dtypes: float64(1), int64(6), object(5)\n",
      "memory usage: 86.2+ KB\n"
     ]
    }
   ],
   "source": [
    "heart.info()"
   ]
  },
  {
   "cell_type": "code",
   "execution_count": 6,
   "metadata": {},
   "outputs": [],
   "source": [
    "#There are some features which have Object Data Type while remaining features are numerical"
   ]
  },
  {
   "cell_type": "code",
   "execution_count": 7,
   "metadata": {
    "colab": {
     "base_uri": "https://localhost:8080/",
     "height": 300
    },
    "id": "6Zii9oaWqzWH",
    "outputId": "19b6e2aa-44bc-40f8-bf47-a7f2925fb3f6"
   },
   "outputs": [
    {
     "data": {
      "text/html": [
       "<div>\n",
       "<style scoped>\n",
       "    .dataframe tbody tr th:only-of-type {\n",
       "        vertical-align: middle;\n",
       "    }\n",
       "\n",
       "    .dataframe tbody tr th {\n",
       "        vertical-align: top;\n",
       "    }\n",
       "\n",
       "    .dataframe thead th {\n",
       "        text-align: right;\n",
       "    }\n",
       "</style>\n",
       "<table border=\"1\" class=\"dataframe\">\n",
       "  <thead>\n",
       "    <tr style=\"text-align: right;\">\n",
       "      <th></th>\n",
       "      <th>Age</th>\n",
       "      <th>RestingBP</th>\n",
       "      <th>Cholesterol</th>\n",
       "      <th>FastingBS</th>\n",
       "      <th>MaxHR</th>\n",
       "      <th>Oldpeak</th>\n",
       "      <th>HeartDisease</th>\n",
       "    </tr>\n",
       "  </thead>\n",
       "  <tbody>\n",
       "    <tr>\n",
       "      <th>count</th>\n",
       "      <td>918.000000</td>\n",
       "      <td>918.000000</td>\n",
       "      <td>918.000000</td>\n",
       "      <td>918.000000</td>\n",
       "      <td>918.000000</td>\n",
       "      <td>918.000000</td>\n",
       "      <td>918.000000</td>\n",
       "    </tr>\n",
       "    <tr>\n",
       "      <th>mean</th>\n",
       "      <td>53.510893</td>\n",
       "      <td>132.396514</td>\n",
       "      <td>198.799564</td>\n",
       "      <td>0.233115</td>\n",
       "      <td>136.809368</td>\n",
       "      <td>0.887364</td>\n",
       "      <td>0.553377</td>\n",
       "    </tr>\n",
       "    <tr>\n",
       "      <th>std</th>\n",
       "      <td>9.432617</td>\n",
       "      <td>18.514154</td>\n",
       "      <td>109.384145</td>\n",
       "      <td>0.423046</td>\n",
       "      <td>25.460334</td>\n",
       "      <td>1.066570</td>\n",
       "      <td>0.497414</td>\n",
       "    </tr>\n",
       "    <tr>\n",
       "      <th>min</th>\n",
       "      <td>28.000000</td>\n",
       "      <td>0.000000</td>\n",
       "      <td>0.000000</td>\n",
       "      <td>0.000000</td>\n",
       "      <td>60.000000</td>\n",
       "      <td>-2.600000</td>\n",
       "      <td>0.000000</td>\n",
       "    </tr>\n",
       "    <tr>\n",
       "      <th>25%</th>\n",
       "      <td>47.000000</td>\n",
       "      <td>120.000000</td>\n",
       "      <td>173.250000</td>\n",
       "      <td>0.000000</td>\n",
       "      <td>120.000000</td>\n",
       "      <td>0.000000</td>\n",
       "      <td>0.000000</td>\n",
       "    </tr>\n",
       "    <tr>\n",
       "      <th>50%</th>\n",
       "      <td>54.000000</td>\n",
       "      <td>130.000000</td>\n",
       "      <td>223.000000</td>\n",
       "      <td>0.000000</td>\n",
       "      <td>138.000000</td>\n",
       "      <td>0.600000</td>\n",
       "      <td>1.000000</td>\n",
       "    </tr>\n",
       "    <tr>\n",
       "      <th>75%</th>\n",
       "      <td>60.000000</td>\n",
       "      <td>140.000000</td>\n",
       "      <td>267.000000</td>\n",
       "      <td>0.000000</td>\n",
       "      <td>156.000000</td>\n",
       "      <td>1.500000</td>\n",
       "      <td>1.000000</td>\n",
       "    </tr>\n",
       "    <tr>\n",
       "      <th>max</th>\n",
       "      <td>77.000000</td>\n",
       "      <td>200.000000</td>\n",
       "      <td>603.000000</td>\n",
       "      <td>1.000000</td>\n",
       "      <td>202.000000</td>\n",
       "      <td>6.200000</td>\n",
       "      <td>1.000000</td>\n",
       "    </tr>\n",
       "  </tbody>\n",
       "</table>\n",
       "</div>"
      ],
      "text/plain": [
       "              Age   RestingBP  Cholesterol   FastingBS       MaxHR  \\\n",
       "count  918.000000  918.000000   918.000000  918.000000  918.000000   \n",
       "mean    53.510893  132.396514   198.799564    0.233115  136.809368   \n",
       "std      9.432617   18.514154   109.384145    0.423046   25.460334   \n",
       "min     28.000000    0.000000     0.000000    0.000000   60.000000   \n",
       "25%     47.000000  120.000000   173.250000    0.000000  120.000000   \n",
       "50%     54.000000  130.000000   223.000000    0.000000  138.000000   \n",
       "75%     60.000000  140.000000   267.000000    0.000000  156.000000   \n",
       "max     77.000000  200.000000   603.000000    1.000000  202.000000   \n",
       "\n",
       "          Oldpeak  HeartDisease  \n",
       "count  918.000000    918.000000  \n",
       "mean     0.887364      0.553377  \n",
       "std      1.066570      0.497414  \n",
       "min     -2.600000      0.000000  \n",
       "25%      0.000000      0.000000  \n",
       "50%      0.600000      1.000000  \n",
       "75%      1.500000      1.000000  \n",
       "max      6.200000      1.000000  "
      ]
     },
     "execution_count": 7,
     "metadata": {},
     "output_type": "execute_result"
    }
   ],
   "source": [
    "heart.describe()\n",
    "# Checking some key statistical information about numerical features "
   ]
  },
  {
   "cell_type": "code",
   "execution_count": 8,
   "metadata": {
    "colab": {
     "base_uri": "https://localhost:8080/"
    },
    "id": "d2KxTEaPuc8l",
    "outputId": "eadc5a0d-677d-4080-f8b6-66ae41335da3"
   },
   "outputs": [
    {
     "data": {
      "text/plain": [
       "Age               0\n",
       "Sex               0\n",
       "ChestPainType     0\n",
       "RestingBP         0\n",
       "Cholesterol       0\n",
       "FastingBS         0\n",
       "RestingECG        0\n",
       "MaxHR             0\n",
       "ExerciseAngina    0\n",
       "Oldpeak           0\n",
       "ST_Slope          0\n",
       "HeartDisease      0\n",
       "dtype: int64"
      ]
     },
     "execution_count": 8,
     "metadata": {},
     "output_type": "execute_result"
    }
   ],
   "source": [
    "# Checking for Missing of Null Values in Data Set\n",
    "\n",
    "heart.isnull().sum()"
   ]
  },
  {
   "cell_type": "code",
   "execution_count": 9,
   "metadata": {
    "colab": {
     "base_uri": "https://localhost:8080/"
    },
    "id": "8z3pWBkCq9Jv",
    "outputId": "085ddfe3-7732-41ec-b99b-367838399cf3"
   },
   "outputs": [
    {
     "data": {
      "text/plain": [
       "array([0, 1], dtype=int64)"
      ]
     },
     "execution_count": 9,
     "metadata": {},
     "output_type": "execute_result"
    }
   ],
   "source": [
    "# Checking Unique Values in the Target Class of Our Data which is Heart Disease\n",
    "\n",
    "heart['HeartDisease'].unique()"
   ]
  },
  {
   "cell_type": "code",
   "execution_count": 10,
   "metadata": {
    "colab": {
     "base_uri": "https://localhost:8080/",
     "height": 206
    },
    "id": "R0JChL8PyLX-",
    "outputId": "50893612-75d1-4edd-f178-796dfddf99a5"
   },
   "outputs": [
    {
     "data": {
      "text/html": [
       "<div>\n",
       "<style scoped>\n",
       "    .dataframe tbody tr th:only-of-type {\n",
       "        vertical-align: middle;\n",
       "    }\n",
       "\n",
       "    .dataframe tbody tr th {\n",
       "        vertical-align: top;\n",
       "    }\n",
       "\n",
       "    .dataframe thead th {\n",
       "        text-align: right;\n",
       "    }\n",
       "</style>\n",
       "<table border=\"1\" class=\"dataframe\">\n",
       "  <thead>\n",
       "    <tr style=\"text-align: right;\">\n",
       "      <th></th>\n",
       "      <th>Age</th>\n",
       "      <th>Sex</th>\n",
       "      <th>ChestPainType</th>\n",
       "      <th>RestingBP</th>\n",
       "      <th>Cholesterol</th>\n",
       "      <th>FastingBS</th>\n",
       "      <th>RestingECG</th>\n",
       "      <th>MaxHR</th>\n",
       "      <th>ExerciseAngina</th>\n",
       "      <th>Oldpeak</th>\n",
       "      <th>ST_Slope</th>\n",
       "      <th>HeartDisease</th>\n",
       "    </tr>\n",
       "  </thead>\n",
       "  <tbody>\n",
       "    <tr>\n",
       "      <th>0</th>\n",
       "      <td>40</td>\n",
       "      <td>M</td>\n",
       "      <td>ATA</td>\n",
       "      <td>140</td>\n",
       "      <td>289</td>\n",
       "      <td>0</td>\n",
       "      <td>Normal</td>\n",
       "      <td>172</td>\n",
       "      <td>N</td>\n",
       "      <td>0.0</td>\n",
       "      <td>Up</td>\n",
       "      <td>0</td>\n",
       "    </tr>\n",
       "    <tr>\n",
       "      <th>1</th>\n",
       "      <td>49</td>\n",
       "      <td>F</td>\n",
       "      <td>NAP</td>\n",
       "      <td>160</td>\n",
       "      <td>180</td>\n",
       "      <td>0</td>\n",
       "      <td>Normal</td>\n",
       "      <td>156</td>\n",
       "      <td>N</td>\n",
       "      <td>1.0</td>\n",
       "      <td>Flat</td>\n",
       "      <td>1</td>\n",
       "    </tr>\n",
       "    <tr>\n",
       "      <th>2</th>\n",
       "      <td>37</td>\n",
       "      <td>M</td>\n",
       "      <td>ATA</td>\n",
       "      <td>130</td>\n",
       "      <td>283</td>\n",
       "      <td>0</td>\n",
       "      <td>ST</td>\n",
       "      <td>98</td>\n",
       "      <td>N</td>\n",
       "      <td>0.0</td>\n",
       "      <td>Up</td>\n",
       "      <td>0</td>\n",
       "    </tr>\n",
       "    <tr>\n",
       "      <th>3</th>\n",
       "      <td>48</td>\n",
       "      <td>F</td>\n",
       "      <td>ASY</td>\n",
       "      <td>138</td>\n",
       "      <td>214</td>\n",
       "      <td>0</td>\n",
       "      <td>Normal</td>\n",
       "      <td>108</td>\n",
       "      <td>Y</td>\n",
       "      <td>1.5</td>\n",
       "      <td>Flat</td>\n",
       "      <td>1</td>\n",
       "    </tr>\n",
       "    <tr>\n",
       "      <th>4</th>\n",
       "      <td>54</td>\n",
       "      <td>M</td>\n",
       "      <td>NAP</td>\n",
       "      <td>150</td>\n",
       "      <td>195</td>\n",
       "      <td>0</td>\n",
       "      <td>Normal</td>\n",
       "      <td>122</td>\n",
       "      <td>N</td>\n",
       "      <td>0.0</td>\n",
       "      <td>Up</td>\n",
       "      <td>0</td>\n",
       "    </tr>\n",
       "  </tbody>\n",
       "</table>\n",
       "</div>"
      ],
      "text/plain": [
       "   Age Sex ChestPainType  RestingBP  Cholesterol  FastingBS RestingECG  MaxHR  \\\n",
       "0   40   M           ATA        140          289          0     Normal    172   \n",
       "1   49   F           NAP        160          180          0     Normal    156   \n",
       "2   37   M           ATA        130          283          0         ST     98   \n",
       "3   48   F           ASY        138          214          0     Normal    108   \n",
       "4   54   M           NAP        150          195          0     Normal    122   \n",
       "\n",
       "  ExerciseAngina  Oldpeak ST_Slope  HeartDisease  \n",
       "0              N      0.0       Up             0  \n",
       "1              N      1.0     Flat             1  \n",
       "2              N      0.0       Up             0  \n",
       "3              Y      1.5     Flat             1  \n",
       "4              N      0.0       Up             0  "
      ]
     },
     "execution_count": 10,
     "metadata": {},
     "output_type": "execute_result"
    }
   ],
   "source": [
    "heart.head()"
   ]
  },
  {
   "cell_type": "markdown",
   "metadata": {
    "id": "WY7kl5tfzkM0"
   },
   "source": [
    "## **FEATURE ENGINEERING**(Converting Object Type Features into Numeric )"
   ]
  },
  {
   "cell_type": "code",
   "execution_count": 11,
   "metadata": {
    "id": "yZBMhDhQyYDG"
   },
   "outputs": [],
   "source": [
    "# Now Seperating those features which are categorical and Object type\n",
    "X_categorical = heart.select_dtypes(include=['object'])\n",
    "\n",
    "# Now converting object type data into numeric form \n",
    "X_categorical=pd.get_dummies(X_categorical,drop_first=True)\n",
    "\n",
    "# Now Seperating those features which are NUMERICAL\n",
    "x_numerical = heart.select_dtypes(include=['float64','int64'])\n",
    "\n",
    "# Now Joining the above data sets\n",
    "heart1 = X_categorical.join(x_numerical, on=None, how='left', sort=True)\n"
   ]
  },
  {
   "cell_type": "code",
   "execution_count": 12,
   "metadata": {},
   "outputs": [
    {
     "data": {
      "text/html": [
       "<div>\n",
       "<style scoped>\n",
       "    .dataframe tbody tr th:only-of-type {\n",
       "        vertical-align: middle;\n",
       "    }\n",
       "\n",
       "    .dataframe tbody tr th {\n",
       "        vertical-align: top;\n",
       "    }\n",
       "\n",
       "    .dataframe thead th {\n",
       "        text-align: right;\n",
       "    }\n",
       "</style>\n",
       "<table border=\"1\" class=\"dataframe\">\n",
       "  <thead>\n",
       "    <tr style=\"text-align: right;\">\n",
       "      <th></th>\n",
       "      <th>Sex_M</th>\n",
       "      <th>ChestPainType_ATA</th>\n",
       "      <th>ChestPainType_NAP</th>\n",
       "      <th>ChestPainType_TA</th>\n",
       "      <th>RestingECG_Normal</th>\n",
       "      <th>RestingECG_ST</th>\n",
       "      <th>ExerciseAngina_Y</th>\n",
       "      <th>ST_Slope_Flat</th>\n",
       "      <th>ST_Slope_Up</th>\n",
       "      <th>Age</th>\n",
       "      <th>RestingBP</th>\n",
       "      <th>Cholesterol</th>\n",
       "      <th>FastingBS</th>\n",
       "      <th>MaxHR</th>\n",
       "      <th>Oldpeak</th>\n",
       "      <th>HeartDisease</th>\n",
       "    </tr>\n",
       "  </thead>\n",
       "  <tbody>\n",
       "    <tr>\n",
       "      <th>0</th>\n",
       "      <td>1</td>\n",
       "      <td>1</td>\n",
       "      <td>0</td>\n",
       "      <td>0</td>\n",
       "      <td>1</td>\n",
       "      <td>0</td>\n",
       "      <td>0</td>\n",
       "      <td>0</td>\n",
       "      <td>1</td>\n",
       "      <td>40</td>\n",
       "      <td>140</td>\n",
       "      <td>289</td>\n",
       "      <td>0</td>\n",
       "      <td>172</td>\n",
       "      <td>0.0</td>\n",
       "      <td>0</td>\n",
       "    </tr>\n",
       "    <tr>\n",
       "      <th>1</th>\n",
       "      <td>0</td>\n",
       "      <td>0</td>\n",
       "      <td>1</td>\n",
       "      <td>0</td>\n",
       "      <td>1</td>\n",
       "      <td>0</td>\n",
       "      <td>0</td>\n",
       "      <td>1</td>\n",
       "      <td>0</td>\n",
       "      <td>49</td>\n",
       "      <td>160</td>\n",
       "      <td>180</td>\n",
       "      <td>0</td>\n",
       "      <td>156</td>\n",
       "      <td>1.0</td>\n",
       "      <td>1</td>\n",
       "    </tr>\n",
       "    <tr>\n",
       "      <th>2</th>\n",
       "      <td>1</td>\n",
       "      <td>1</td>\n",
       "      <td>0</td>\n",
       "      <td>0</td>\n",
       "      <td>0</td>\n",
       "      <td>1</td>\n",
       "      <td>0</td>\n",
       "      <td>0</td>\n",
       "      <td>1</td>\n",
       "      <td>37</td>\n",
       "      <td>130</td>\n",
       "      <td>283</td>\n",
       "      <td>0</td>\n",
       "      <td>98</td>\n",
       "      <td>0.0</td>\n",
       "      <td>0</td>\n",
       "    </tr>\n",
       "    <tr>\n",
       "      <th>3</th>\n",
       "      <td>0</td>\n",
       "      <td>0</td>\n",
       "      <td>0</td>\n",
       "      <td>0</td>\n",
       "      <td>1</td>\n",
       "      <td>0</td>\n",
       "      <td>1</td>\n",
       "      <td>1</td>\n",
       "      <td>0</td>\n",
       "      <td>48</td>\n",
       "      <td>138</td>\n",
       "      <td>214</td>\n",
       "      <td>0</td>\n",
       "      <td>108</td>\n",
       "      <td>1.5</td>\n",
       "      <td>1</td>\n",
       "    </tr>\n",
       "    <tr>\n",
       "      <th>4</th>\n",
       "      <td>1</td>\n",
       "      <td>0</td>\n",
       "      <td>1</td>\n",
       "      <td>0</td>\n",
       "      <td>1</td>\n",
       "      <td>0</td>\n",
       "      <td>0</td>\n",
       "      <td>0</td>\n",
       "      <td>1</td>\n",
       "      <td>54</td>\n",
       "      <td>150</td>\n",
       "      <td>195</td>\n",
       "      <td>0</td>\n",
       "      <td>122</td>\n",
       "      <td>0.0</td>\n",
       "      <td>0</td>\n",
       "    </tr>\n",
       "  </tbody>\n",
       "</table>\n",
       "</div>"
      ],
      "text/plain": [
       "   Sex_M  ChestPainType_ATA  ChestPainType_NAP  ChestPainType_TA  \\\n",
       "0      1                  1                  0                 0   \n",
       "1      0                  0                  1                 0   \n",
       "2      1                  1                  0                 0   \n",
       "3      0                  0                  0                 0   \n",
       "4      1                  0                  1                 0   \n",
       "\n",
       "   RestingECG_Normal  RestingECG_ST  ExerciseAngina_Y  ST_Slope_Flat  \\\n",
       "0                  1              0                 0              0   \n",
       "1                  1              0                 0              1   \n",
       "2                  0              1                 0              0   \n",
       "3                  1              0                 1              1   \n",
       "4                  1              0                 0              0   \n",
       "\n",
       "   ST_Slope_Up  Age  RestingBP  Cholesterol  FastingBS  MaxHR  Oldpeak  \\\n",
       "0            1   40        140          289          0    172      0.0   \n",
       "1            0   49        160          180          0    156      1.0   \n",
       "2            1   37        130          283          0     98      0.0   \n",
       "3            0   48        138          214          0    108      1.5   \n",
       "4            1   54        150          195          0    122      0.0   \n",
       "\n",
       "   HeartDisease  \n",
       "0             0  \n",
       "1             1  \n",
       "2             0  \n",
       "3             1  \n",
       "4             0  "
      ]
     },
     "execution_count": 12,
     "metadata": {},
     "output_type": "execute_result"
    }
   ],
   "source": [
    "heart1.head()"
   ]
  },
  {
   "cell_type": "markdown",
   "metadata": {},
   "source": [
    "# **Graphical Exploration of Data**"
   ]
  },
  {
   "cell_type": "code",
   "execution_count": 13,
   "metadata": {
    "id": "t51cB1Dmgq7g"
   },
   "outputs": [],
   "source": [
    "# Checking for Correlation between features\n",
    "corr = heart1.corr()"
   ]
  },
  {
   "cell_type": "code",
   "execution_count": 14,
   "metadata": {
    "colab": {
     "base_uri": "https://localhost:8080/",
     "height": 341
    },
    "id": "j7Ij3xoKgmig",
    "outputId": "4e8539b9-cd74-4b98-eee6-e5d8662807b6"
   },
   "outputs": [
    {
     "data": {
      "text/plain": [
       "<AxesSubplot:>"
      ]
     },
     "execution_count": 14,
     "metadata": {},
     "output_type": "execute_result"
    },
    {
     "data": {
      "image/png": "[encoded data removed]",
      "text/plain": [
       "<Figure size 864x864 with 2 Axes>"
      ]
     },
     "metadata": {
      "needs_background": "light"
     },
     "output_type": "display_data"
    }
   ],
   "source": [
    "fig, ax = plt.subplots(figsize=(12,12)) \n",
    "sns.heatmap(corr,annot=True,square=True,annot_kws={\"size\": 9},ax=ax)\n",
    "\n",
    "# From the below Heatmap we can see that heart disease is relatively better correlated with ChestPainType\n",
    "# Exercise Angina,Old peak and ST_Slope\n"
   ]
  },
  {
   "cell_type": "code",
   "execution_count": 15,
   "metadata": {
    "colab": {
     "base_uri": "https://localhost:8080/",
     "height": 499
    },
    "id": "SVVdxfEaiajX",
    "outputId": "35f81685-6455-461a-e750-5d4dc44f9ffc"
   },
   "outputs": [
    {
     "data": {
      "image/png": "[encoded data removed]",
      "text/plain": [
       "<Figure size 864x864 with 16 Axes>"
      ]
     },
     "metadata": {
      "needs_background": "light"
     },
     "output_type": "display_data"
    }
   ],
   "source": [
    "hist = heart1.hist(figsize=(12,12))\n",
    "# histplot = sns.histplot(heart)"
   ]
  },
  {
   "cell_type": "code",
   "execution_count": 16,
   "metadata": {
    "colab": {
     "base_uri": "https://localhost:8080/",
     "height": 265
    },
    "id": "IGvLpgEexLOU",
    "outputId": "07c98922-a3e4-4353-82dc-b675921e740c"
   },
   "outputs": [
    {
     "data": {
      "image/png": "[encoded data removed]",
      "text/plain": [
       "<Figure size 432x288 with 1 Axes>"
      ]
     },
     "metadata": {
      "needs_background": "light"
     },
     "output_type": "display_data"
    }
   ],
   "source": [
    "histplot = sns.histplot(heart1,element='step',shrink=5,stat='frequency')"
   ]
  },
  {
   "cell_type": "code",
   "execution_count": 17,
   "metadata": {},
   "outputs": [
    {
     "data": {
      "image/png": "[encoded data removed]",
      "text/plain": [
       "<Figure size 1080x1080 with 15 Axes>"
      ]
     },
     "metadata": {
      "needs_background": "light"
     },
     "output_type": "display_data"
    }
   ],
   "source": [
    "# Now lets look at the outliers in Numerical features in our data set\n",
    "plt.figure(figsize=(15,15))\n",
    "i=1\n",
    "for col in heart1.columns:\n",
    "    if col!='HeartDisease' and heart1[col].dtype !='object' and col!=['FastingBS','HeartDisease']:\n",
    "        plt.subplot(4,4,i)\n",
    "        plt.title(f\"Distribution of {col} Data\")\n",
    "        sns.boxplot(x=heart1[\"HeartDisease\"], y=heart1[col],hue=heart1[\"HeartDisease\"], data=pd.melt(heart1))\n",
    "        plt.tight_layout()\n",
    "        plt.plot()\n",
    "        i+=1\n",
    "\n",
    "        \n",
    "#looking at the below boxplot the outliers are not significant enough "
   ]
  },
  {
   "cell_type": "markdown",
   "metadata": {},
   "source": [
    "# **MACHINE LEARNING**"
   ]
  },
  {
   "cell_type": "code",
   "execution_count": 18,
   "metadata": {},
   "outputs": [],
   "source": [
    "x = heart1.iloc[: , :-1].values # Seperating the Target Class\n",
    "y=heart1.iloc[: , -1] # Storing Target Class in Seperate Variable"
   ]
  },
  {
   "cell_type": "code",
   "execution_count": 19,
   "metadata": {
    "id": "yRlTpFyfMrc8"
   },
   "outputs": [],
   "source": [
    "# First Lets split the data into training and testing data sets\n",
    "\n",
    "from sklearn.model_selection import train_test_split\n",
    "\n",
    "X_train,X_test,y_train,y_test = (train_test_split(x,y,test_size=0.2,random_state=42,stratify=y))"
   ]
  },
  {
   "cell_type": "code",
   "execution_count": 20,
   "metadata": {
    "colab": {
     "base_uri": "https://localhost:8080/"
    },
    "id": "2K-H2u18N1S4",
    "outputId": "2903ea0d-4ade-4252-e81c-ab517ea33538"
   },
   "outputs": [
    {
     "data": {
      "text/plain": [
       "(734, 15)"
      ]
     },
     "execution_count": 20,
     "metadata": {},
     "output_type": "execute_result"
    }
   ],
   "source": [
    "X_train.shape"
   ]
  },
  {
   "cell_type": "code",
   "execution_count": 21,
   "metadata": {
    "id": "1IFzcwA_NguI"
   },
   "outputs": [],
   "source": [
    "# X_train[:, 9:]= sc.fit_transform(X_train[:, 9:])\n",
    "# X_test[:, 9:]= sc.transform(X_test[:, 9:])"
   ]
  },
  {
   "cell_type": "markdown",
   "metadata": {
    "id": "SGb7VzJW0sVC"
   },
   "source": [
    "## **LAZY PREDICT**(For Selection of ML Models)"
   ]
  },
  {
   "cell_type": "code",
   "execution_count": 22,
   "metadata": {
    "colab": {
     "base_uri": "https://localhost:8080/"
    },
    "id": "wLx91-5YOsvQ",
    "outputId": "2a6cef07-ce50-4db5-80cd-ce57865788cf"
   },
   "outputs": [
    {
     "name": "stderr",
     "output_type": "stream",
     "text": [
      "C:\\Users\\Muhammad Saad\\anaconda3\\lib\\site-packages\\sklearn\\utils\\deprecation.py:143: FutureWarning: The sklearn.utils.testing module is  deprecated in version 0.22 and will be removed in version 0.24. The corresponding classes / functions should instead be imported from sklearn.utils. Anything that cannot be imported from sklearn.utils is now part of the private API.\n",
      "  warnings.warn(message, FutureWarning)\n",
      " 14%|███████████▍                                                                       | 4/29 [00:00<00:01, 17.52it/s]"
     ]
    },
    {
     "name": "stdout",
     "output_type": "stream",
     "text": [
      "{'Model': 'AdaBoostClassifier', 'Accuracy': 0.8641304347826086, 'Balanced Accuracy': 0.8642993782879005, 'ROC AUC': 0.8642993782879005, 'F1 Score': 0.8643368681196983, 'Time taken': 0.0807485580444336}\n",
      "{'Model': 'BaggingClassifier', 'Accuracy': 0.8586956521739131, 'Balanced Accuracy': 0.8570062171209947, 'ROC AUC': 0.8570062171209948, 'F1 Score': 0.8586956521739131, 'Time taken': 0.03124260902404785}\n",
      "{'Model': 'BernoulliNB', 'Accuracy': 0.8532608695652174, 'Balanced Accuracy': 0.852104256336681, 'ROC AUC': 0.852104256336681, 'F1 Score': 0.8533441071671958, 'Time taken': 0.021898746490478516}\n",
      "{'Model': 'CalibratedClassifierCV', 'Accuracy': 0.875, 'Balanced Accuracy': 0.8681252989000479, 'ROC AUC': 0.8681252989000479, 'F1 Score': 0.874011812812358, 'Time taken': 0.09280514717102051}\n",
      "{'Model': 'DecisionTreeClassifier', 'Accuracy': 0.7880434782608695, 'Balanced Accuracy': 0.7813247250119559, 'ROC AUC': 0.781324725011956, 'F1 Score': 0.7868341993461264, 'Time taken': 0.011013507843017578}\n",
      "{'Model': 'DummyClassifier', 'Accuracy': 0.5217391304347826, 'Balanced Accuracy': 0.5112386417981827, 'ROC AUC': 0.5112386417981827, 'F1 Score': 0.5184998212069583, 'Time taken': 0.008932113647460938}\n",
      "{'Model': 'ExtraTreeClassifier', 'Accuracy': 0.8369565217391305, 'Balanced Accuracy': 0.8350071736011477, 'ROC AUC': 0.8350071736011478, 'F1 Score': 0.8369565217391305, 'Time taken': 0.008975744247436523}\n"
     ]
    },
    {
     "name": "stderr",
     "output_type": "stream",
     "text": [
      " 48%|███████████████████████████████████████▌                                          | 14/29 [00:00<00:00, 32.16it/s]"
     ]
    },
    {
     "name": "stdout",
     "output_type": "stream",
     "text": [
      "{'Model': 'ExtraTreesClassifier', 'Accuracy': 0.8967391304347826, 'Balanced Accuracy': 0.8937111429937828, 'ROC AUC': 0.8937111429937827, 'F1 Score': 0.8965253398145647, 'Time taken': 0.11094880104064941}\n",
      "{'Model': 'GaussianNB', 'Accuracy': 0.9130434782608695, 'Balanced Accuracy': 0.9131994261119082, 'ROC AUC': 0.9131994261119082, 'F1 Score': 0.9131368348987859, 'Time taken': 0.024829864501953125}\n",
      "{'Model': 'KNeighborsClassifier', 'Accuracy': 0.8858695652173914, 'Balanced Accuracy': 0.8827116212338594, 'ROC AUC': 0.8827116212338593, 'F1 Score': 0.8856332703213611, 'Time taken': 0.017923355102539062}\n",
      "{'Model': 'LabelPropagation', 'Accuracy': 0.8641304347826086, 'Balanced Accuracy': 0.8642993782879005, 'ROC AUC': 0.8642993782879005, 'F1 Score': 0.8643368681196983, 'Time taken': 0.02299952507019043}\n",
      "{'Model': 'LabelSpreading', 'Accuracy': 0.8641304347826086, 'Balanced Accuracy': 0.8642993782879005, 'ROC AUC': 0.8642993782879005, 'F1 Score': 0.8643368681196983, 'Time taken': 0.031244754791259766}\n",
      "{'Model': 'LinearDiscriminantAnalysis', 'Accuracy': 0.8913043478260869, 'Balanced Accuracy': 0.8864179818268771, 'ROC AUC': 0.8864179818268771, 'F1 Score': 0.8907933013601699, 'Time taken': 0.015621185302734375}\n",
      "{'Model': 'LinearSVC', 'Accuracy': 0.8804347826086957, 'Balanced Accuracy': 0.8742228598756576, 'ROC AUC': 0.8742228598756576, 'F1 Score': 0.8796249553017396, 'Time taken': 0.038055419921875}\n",
      "{'Model': 'LogisticRegression', 'Accuracy': 0.8858695652173914, 'Balanced Accuracy': 0.8803204208512674, 'ROC AUC': 0.8803204208512673, 'F1 Score': 0.8852184150325294, 'Time taken': 0.01943373680114746}\n",
      "{'Model': 'NearestCentroid', 'Accuracy': 0.8641304347826086, 'Balanced Accuracy': 0.8666905786704926, 'ROC AUC': 0.8666905786704926, 'F1 Score': 0.8644974645102421, 'Time taken': 0.00901651382446289}\n"
     ]
    },
    {
     "name": "stderr",
     "output_type": "stream",
     "text": [
      " 66%|█████████████████████████████████████████████████████▋                            | 19/29 [00:00<00:00, 37.44it/s]"
     ]
    },
    {
     "name": "stdout",
     "output_type": "stream",
     "text": [
      "{'Model': 'NuSVC', 'Accuracy': 0.8858695652173914, 'Balanced Accuracy': 0.8803204208512674, 'ROC AUC': 0.8803204208512673, 'F1 Score': 0.8852184150325294, 'Time taken': 0.02494668960571289}\n",
      "{'Model': 'PassiveAggressiveClassifier', 'Accuracy': 0.6956521739130435, 'Balanced Accuracy': 0.6920133907221425, 'ROC AUC': 0.6920133907221425, 'F1 Score': 0.6956521739130435, 'Time taken': 0.008959531784057617}\n",
      "{'Model': 'Perceptron', 'Accuracy': 0.7010869565217391, 'Balanced Accuracy': 0.687350549976088, 'ROC AUC': 0.687350549976088, 'F1 Score': 0.6952995244920711, 'Time taken': 0.010970354080200195}\n",
      "{'Model': 'QuadraticDiscriminantAnalysis', 'Accuracy': 0.8586956521739131, 'Balanced Accuracy': 0.8534194165471067, 'ROC AUC': 0.8534194165471066, 'F1 Score': 0.8580312917682207, 'Time taken': 0.01064300537109375}\n",
      "{'Model': 'RandomForestClassifier', 'Accuracy': 0.8967391304347826, 'Balanced Accuracy': 0.8937111429937828, 'ROC AUC': 0.8937111429937827, 'F1 Score': 0.8965253398145647, 'Time taken': 0.13971209526062012}\n"
     ]
    },
    {
     "name": "stderr",
     "output_type": "stream",
     "text": [
      " 97%|███████████████████████████████████████████████████████████████████████████████▏  | 28/29 [00:00<00:00, 34.37it/s]"
     ]
    },
    {
     "name": "stdout",
     "output_type": "stream",
     "text": [
      "{'Model': 'RidgeClassifier', 'Accuracy': 0.8913043478260869, 'Balanced Accuracy': 0.8864179818268771, 'ROC AUC': 0.8864179818268771, 'F1 Score': 0.8907933013601699, 'Time taken': 0.024210691452026367}\n",
      "{'Model': 'RidgeClassifierCV', 'Accuracy': 0.8913043478260869, 'Balanced Accuracy': 0.8864179818268771, 'ROC AUC': 0.8864179818268771, 'F1 Score': 0.8907933013601699, 'Time taken': 0.016273021697998047}\n",
      "{'Model': 'SGDClassifier', 'Accuracy': 0.8695652173913043, 'Balanced Accuracy': 0.8715925394548063, 'ROC AUC': 0.8715925394548063, 'F1 Score': 0.869890723087654, 'Time taken': 0.011983156204223633}\n",
      "{'Model': 'SVC', 'Accuracy': 0.9021739130434783, 'Balanced Accuracy': 0.8962219033955046, 'ROC AUC': 0.8962219033955046, 'F1 Score': 0.9015113270650597, 'Time taken': 0.019968271255493164}\n",
      "{'Model': 'XGBClassifier', 'Accuracy': 0.8586956521739131, 'Balanced Accuracy': 0.8582018173122907, 'ROC AUC': 0.8582018173122907, 'F1 Score': 0.8588473567105271, 'Time taken': 0.061995744705200195}\n"
     ]
    },
    {
     "name": "stderr",
     "output_type": "stream",
     "text": [
      "100%|██████████████████████████████████████████████████████████████████████████████████| 29/29 [00:01<00:00, 28.52it/s]"
     ]
    },
    {
     "name": "stdout",
     "output_type": "stream",
     "text": [
      "{'Model': 'LGBMClassifier', 'Accuracy': 0.8586956521739131, 'Balanced Accuracy': 0.8582018173122907, 'ROC AUC': 0.8582018173122907, 'F1 Score': 0.8588473567105271, 'Time taken': 0.12204122543334961}\n"
     ]
    },
    {
     "name": "stderr",
     "output_type": "stream",
     "text": [
      "\n"
     ]
    }
   ],
   "source": [
    "#pip install lazypredict\n",
    "\n",
    "from lazypredict.Supervised import LazyClassifier\n",
    "\n",
    "clf = LazyClassifier(verbose=4,ignore_warnings=True, custom_metric=None)\n",
    "models,predictions = clf.fit(X_train, X_test, y_train, y_test)\n"
   ]
  },
  {
   "cell_type": "code",
   "execution_count": 23,
   "metadata": {
    "colab": {
     "base_uri": "https://localhost:8080/",
     "height": 928
    },
    "id": "ZrfawYXGPf3x",
    "outputId": "d4fcde77-2de4-4f65-d356-a033fc2bb1a9"
   },
   "outputs": [
    {
     "data": {
      "text/html": [
       "<div>\n",
       "<style scoped>\n",
       "    .dataframe tbody tr th:only-of-type {\n",
       "        vertical-align: middle;\n",
       "    }\n",
       "\n",
       "    .dataframe tbody tr th {\n",
       "        vertical-align: top;\n",
       "    }\n",
       "\n",
       "    .dataframe thead th {\n",
       "        text-align: right;\n",
       "    }\n",
       "</style>\n",
       "<table border=\"1\" class=\"dataframe\">\n",
       "  <thead>\n",
       "    <tr style=\"text-align: right;\">\n",
       "      <th></th>\n",
       "      <th>Accuracy</th>\n",
       "      <th>Balanced Accuracy</th>\n",
       "      <th>ROC AUC</th>\n",
       "      <th>F1 Score</th>\n",
       "      <th>Time Taken</th>\n",
       "    </tr>\n",
       "    <tr>\n",
       "      <th>Model</th>\n",
       "      <th></th>\n",
       "      <th></th>\n",
       "      <th></th>\n",
       "      <th></th>\n",
       "      <th></th>\n",
       "    </tr>\n",
       "  </thead>\n",
       "  <tbody>\n",
       "    <tr>\n",
       "      <th>GaussianNB</th>\n",
       "      <td>0.91</td>\n",
       "      <td>0.91</td>\n",
       "      <td>0.91</td>\n",
       "      <td>0.91</td>\n",
       "      <td>0.02</td>\n",
       "    </tr>\n",
       "    <tr>\n",
       "      <th>SVC</th>\n",
       "      <td>0.90</td>\n",
       "      <td>0.90</td>\n",
       "      <td>0.90</td>\n",
       "      <td>0.90</td>\n",
       "      <td>0.02</td>\n",
       "    </tr>\n",
       "    <tr>\n",
       "      <th>ExtraTreesClassifier</th>\n",
       "      <td>0.90</td>\n",
       "      <td>0.89</td>\n",
       "      <td>0.89</td>\n",
       "      <td>0.90</td>\n",
       "      <td>0.11</td>\n",
       "    </tr>\n",
       "    <tr>\n",
       "      <th>RandomForestClassifier</th>\n",
       "      <td>0.90</td>\n",
       "      <td>0.89</td>\n",
       "      <td>0.89</td>\n",
       "      <td>0.90</td>\n",
       "      <td>0.14</td>\n",
       "    </tr>\n",
       "    <tr>\n",
       "      <th>RidgeClassifierCV</th>\n",
       "      <td>0.89</td>\n",
       "      <td>0.89</td>\n",
       "      <td>0.89</td>\n",
       "      <td>0.89</td>\n",
       "      <td>0.02</td>\n",
       "    </tr>\n",
       "    <tr>\n",
       "      <th>RidgeClassifier</th>\n",
       "      <td>0.89</td>\n",
       "      <td>0.89</td>\n",
       "      <td>0.89</td>\n",
       "      <td>0.89</td>\n",
       "      <td>0.02</td>\n",
       "    </tr>\n",
       "    <tr>\n",
       "      <th>LinearDiscriminantAnalysis</th>\n",
       "      <td>0.89</td>\n",
       "      <td>0.89</td>\n",
       "      <td>0.89</td>\n",
       "      <td>0.89</td>\n",
       "      <td>0.02</td>\n",
       "    </tr>\n",
       "    <tr>\n",
       "      <th>KNeighborsClassifier</th>\n",
       "      <td>0.89</td>\n",
       "      <td>0.88</td>\n",
       "      <td>0.88</td>\n",
       "      <td>0.89</td>\n",
       "      <td>0.02</td>\n",
       "    </tr>\n",
       "    <tr>\n",
       "      <th>LogisticRegression</th>\n",
       "      <td>0.89</td>\n",
       "      <td>0.88</td>\n",
       "      <td>0.88</td>\n",
       "      <td>0.89</td>\n",
       "      <td>0.02</td>\n",
       "    </tr>\n",
       "    <tr>\n",
       "      <th>NuSVC</th>\n",
       "      <td>0.89</td>\n",
       "      <td>0.88</td>\n",
       "      <td>0.88</td>\n",
       "      <td>0.89</td>\n",
       "      <td>0.02</td>\n",
       "    </tr>\n",
       "    <tr>\n",
       "      <th>LinearSVC</th>\n",
       "      <td>0.88</td>\n",
       "      <td>0.87</td>\n",
       "      <td>0.87</td>\n",
       "      <td>0.88</td>\n",
       "      <td>0.04</td>\n",
       "    </tr>\n",
       "    <tr>\n",
       "      <th>SGDClassifier</th>\n",
       "      <td>0.87</td>\n",
       "      <td>0.87</td>\n",
       "      <td>0.87</td>\n",
       "      <td>0.87</td>\n",
       "      <td>0.01</td>\n",
       "    </tr>\n",
       "    <tr>\n",
       "      <th>CalibratedClassifierCV</th>\n",
       "      <td>0.88</td>\n",
       "      <td>0.87</td>\n",
       "      <td>0.87</td>\n",
       "      <td>0.87</td>\n",
       "      <td>0.09</td>\n",
       "    </tr>\n",
       "    <tr>\n",
       "      <th>NearestCentroid</th>\n",
       "      <td>0.86</td>\n",
       "      <td>0.87</td>\n",
       "      <td>0.87</td>\n",
       "      <td>0.86</td>\n",
       "      <td>0.01</td>\n",
       "    </tr>\n",
       "    <tr>\n",
       "      <th>AdaBoostClassifier</th>\n",
       "      <td>0.86</td>\n",
       "      <td>0.86</td>\n",
       "      <td>0.86</td>\n",
       "      <td>0.86</td>\n",
       "      <td>0.08</td>\n",
       "    </tr>\n",
       "    <tr>\n",
       "      <th>LabelSpreading</th>\n",
       "      <td>0.86</td>\n",
       "      <td>0.86</td>\n",
       "      <td>0.86</td>\n",
       "      <td>0.86</td>\n",
       "      <td>0.03</td>\n",
       "    </tr>\n",
       "    <tr>\n",
       "      <th>LabelPropagation</th>\n",
       "      <td>0.86</td>\n",
       "      <td>0.86</td>\n",
       "      <td>0.86</td>\n",
       "      <td>0.86</td>\n",
       "      <td>0.02</td>\n",
       "    </tr>\n",
       "    <tr>\n",
       "      <th>XGBClassifier</th>\n",
       "      <td>0.86</td>\n",
       "      <td>0.86</td>\n",
       "      <td>0.86</td>\n",
       "      <td>0.86</td>\n",
       "      <td>0.06</td>\n",
       "    </tr>\n",
       "    <tr>\n",
       "      <th>LGBMClassifier</th>\n",
       "      <td>0.86</td>\n",
       "      <td>0.86</td>\n",
       "      <td>0.86</td>\n",
       "      <td>0.86</td>\n",
       "      <td>0.12</td>\n",
       "    </tr>\n",
       "    <tr>\n",
       "      <th>BaggingClassifier</th>\n",
       "      <td>0.86</td>\n",
       "      <td>0.86</td>\n",
       "      <td>0.86</td>\n",
       "      <td>0.86</td>\n",
       "      <td>0.03</td>\n",
       "    </tr>\n",
       "    <tr>\n",
       "      <th>QuadraticDiscriminantAnalysis</th>\n",
       "      <td>0.86</td>\n",
       "      <td>0.85</td>\n",
       "      <td>0.85</td>\n",
       "      <td>0.86</td>\n",
       "      <td>0.01</td>\n",
       "    </tr>\n",
       "    <tr>\n",
       "      <th>BernoulliNB</th>\n",
       "      <td>0.85</td>\n",
       "      <td>0.85</td>\n",
       "      <td>0.85</td>\n",
       "      <td>0.85</td>\n",
       "      <td>0.02</td>\n",
       "    </tr>\n",
       "    <tr>\n",
       "      <th>ExtraTreeClassifier</th>\n",
       "      <td>0.84</td>\n",
       "      <td>0.84</td>\n",
       "      <td>0.84</td>\n",
       "      <td>0.84</td>\n",
       "      <td>0.01</td>\n",
       "    </tr>\n",
       "    <tr>\n",
       "      <th>DecisionTreeClassifier</th>\n",
       "      <td>0.79</td>\n",
       "      <td>0.78</td>\n",
       "      <td>0.78</td>\n",
       "      <td>0.79</td>\n",
       "      <td>0.01</td>\n",
       "    </tr>\n",
       "    <tr>\n",
       "      <th>PassiveAggressiveClassifier</th>\n",
       "      <td>0.70</td>\n",
       "      <td>0.69</td>\n",
       "      <td>0.69</td>\n",
       "      <td>0.70</td>\n",
       "      <td>0.01</td>\n",
       "    </tr>\n",
       "    <tr>\n",
       "      <th>Perceptron</th>\n",
       "      <td>0.70</td>\n",
       "      <td>0.69</td>\n",
       "      <td>0.69</td>\n",
       "      <td>0.70</td>\n",
       "      <td>0.01</td>\n",
       "    </tr>\n",
       "    <tr>\n",
       "      <th>DummyClassifier</th>\n",
       "      <td>0.52</td>\n",
       "      <td>0.51</td>\n",
       "      <td>0.51</td>\n",
       "      <td>0.52</td>\n",
       "      <td>0.01</td>\n",
       "    </tr>\n",
       "  </tbody>\n",
       "</table>\n",
       "</div>"
      ],
      "text/plain": [
       "                               Accuracy  Balanced Accuracy  ROC AUC  F1 Score  \\\n",
       "Model                                                                           \n",
       "GaussianNB                         0.91               0.91     0.91      0.91   \n",
       "SVC                                0.90               0.90     0.90      0.90   \n",
       "ExtraTreesClassifier               0.90               0.89     0.89      0.90   \n",
       "RandomForestClassifier             0.90               0.89     0.89      0.90   \n",
       "RidgeClassifierCV                  0.89               0.89     0.89      0.89   \n",
       "RidgeClassifier                    0.89               0.89     0.89      0.89   \n",
       "LinearDiscriminantAnalysis         0.89               0.89     0.89      0.89   \n",
       "KNeighborsClassifier               0.89               0.88     0.88      0.89   \n",
       "LogisticRegression                 0.89               0.88     0.88      0.89   \n",
       "NuSVC                              0.89               0.88     0.88      0.89   \n",
       "LinearSVC                          0.88               0.87     0.87      0.88   \n",
       "SGDClassifier                      0.87               0.87     0.87      0.87   \n",
       "CalibratedClassifierCV             0.88               0.87     0.87      0.87   \n",
       "NearestCentroid                    0.86               0.87     0.87      0.86   \n",
       "AdaBoostClassifier                 0.86               0.86     0.86      0.86   \n",
       "LabelSpreading                     0.86               0.86     0.86      0.86   \n",
       "LabelPropagation                   0.86               0.86     0.86      0.86   \n",
       "XGBClassifier                      0.86               0.86     0.86      0.86   \n",
       "LGBMClassifier                     0.86               0.86     0.86      0.86   \n",
       "BaggingClassifier                  0.86               0.86     0.86      0.86   \n",
       "QuadraticDiscriminantAnalysis      0.86               0.85     0.85      0.86   \n",
       "BernoulliNB                        0.85               0.85     0.85      0.85   \n",
       "ExtraTreeClassifier                0.84               0.84     0.84      0.84   \n",
       "DecisionTreeClassifier             0.79               0.78     0.78      0.79   \n",
       "PassiveAggressiveClassifier        0.70               0.69     0.69      0.70   \n",
       "Perceptron                         0.70               0.69     0.69      0.70   \n",
       "DummyClassifier                    0.52               0.51     0.51      0.52   \n",
       "\n",
       "                               Time Taken  \n",
       "Model                                      \n",
       "GaussianNB                           0.02  \n",
       "SVC                                  0.02  \n",
       "ExtraTreesClassifier                 0.11  \n",
       "RandomForestClassifier               0.14  \n",
       "RidgeClassifierCV                    0.02  \n",
       "RidgeClassifier                      0.02  \n",
       "LinearDiscriminantAnalysis           0.02  \n",
       "KNeighborsClassifier                 0.02  \n",
       "LogisticRegression                   0.02  \n",
       "NuSVC                                0.02  \n",
       "LinearSVC                            0.04  \n",
       "SGDClassifier                        0.01  \n",
       "CalibratedClassifierCV               0.09  \n",
       "NearestCentroid                      0.01  \n",
       "AdaBoostClassifier                   0.08  \n",
       "LabelSpreading                       0.03  \n",
       "LabelPropagation                     0.02  \n",
       "XGBClassifier                        0.06  \n",
       "LGBMClassifier                       0.12  \n",
       "BaggingClassifier                    0.03  \n",
       "QuadraticDiscriminantAnalysis        0.01  \n",
       "BernoulliNB                          0.02  \n",
       "ExtraTreeClassifier                  0.01  \n",
       "DecisionTreeClassifier               0.01  \n",
       "PassiveAggressiveClassifier          0.01  \n",
       "Perceptron                           0.01  \n",
       "DummyClassifier                      0.01  "
      ]
     },
     "execution_count": 23,
     "metadata": {},
     "output_type": "execute_result"
    }
   ],
   "source": [
    "models"
   ]
  },
  {
   "cell_type": "code",
   "execution_count": 25,
   "metadata": {},
   "outputs": [],
   "source": [
    "from sklearn.model_selection import StratifiedKFold\n",
    "cv = StratifiedKFold(n_splits=10, random_state=1,shuffle = True)\n",
    "lst_accu_stratified = []\n",
    "  \n",
    "for train_index, test_index in cv.split(x, y):\n",
    "    x_train_fold, x_test_fold = x[train_index], x[test_index]\n",
    "    y_train_fold, y_test_fold = y[train_index], y[test_index]\n",
    "    # RFC.fit(x_train_fold, y_train_fold)\n",
    "    # lst_accu_stratified.append(RFC.score(x_test_fold, y_test_fold))"
   ]
  },
  {
   "cell_type": "code",
   "execution_count": 26,
   "metadata": {},
   "outputs": [
    {
     "name": "stderr",
     "output_type": "stream",
     "text": [
      " 14%|███████████▍                                                                       | 4/29 [00:00<00:01, 16.16it/s]"
     ]
    },
    {
     "name": "stdout",
     "output_type": "stream",
     "text": [
      "{'Model': 'AdaBoostClassifier', 'Accuracy': 0.8681318681318682, 'Balanced Accuracy': 0.8668292682926829, 'ROC AUC': 0.8668292682926828, 'F1 Score': 0.8681318681318682, 'Time taken': 0.09279537200927734}\n",
      "{'Model': 'BaggingClassifier', 'Accuracy': 0.8461538461538461, 'Balanced Accuracy': 0.8490243902439024, 'ROC AUC': 0.8490243902439024, 'F1 Score': 0.8465265354800238, 'Time taken': 0.021705150604248047}\n",
      "{'Model': 'BernoulliNB', 'Accuracy': 0.9230769230769231, 'Balanced Accuracy': 0.9212195121951219, 'ROC AUC': 0.921219512195122, 'F1 Score': 0.9229828965802562, 'Time taken': 0.018841266632080078}\n",
      "{'Model': 'CalibratedClassifierCV', 'Accuracy': 0.9010989010989011, 'Balanced Accuracy': 0.8990243902439025, 'ROC AUC': 0.8990243902439025, 'F1 Score': 0.900978009888901, 'Time taken': 0.1113901138305664}\n",
      "{'Model': 'DecisionTreeClassifier', 'Accuracy': 0.8461538461538461, 'Balanced Accuracy': 0.8490243902439024, 'ROC AUC': 0.8490243902439024, 'F1 Score': 0.8465265354800238, 'Time taken': 0.011016130447387695}\n"
     ]
    },
    {
     "name": "stderr",
     "output_type": "stream",
     "text": [
      " 31%|█████████████████████████▊                                                         | 9/29 [00:00<00:00, 23.61it/s]"
     ]
    },
    {
     "name": "stdout",
     "output_type": "stream",
     "text": [
      "{'Model': 'DummyClassifier', 'Accuracy': 0.5604395604395604, 'Balanced Accuracy': 0.5517073170731708, 'ROC AUC': 0.5517073170731708, 'F1 Score': 0.5576218653141729, 'Time taken': 0.01092529296875}\n",
      "{'Model': 'ExtraTreeClassifier', 'Accuracy': 0.8351648351648352, 'Balanced Accuracy': 0.8368292682926829, 'ROC AUC': 0.8368292682926828, 'F1 Score': 0.8355246936205093, 'Time taken': 0.010970592498779297}\n",
      "{'Model': 'ExtraTreesClassifier', 'Accuracy': 0.9120879120879121, 'Balanced Accuracy': 0.9134146341463415, 'ROC AUC': 0.9134146341463415, 'F1 Score': 0.9122374224415041, 'Time taken': 0.11307382583618164}\n",
      "{'Model': 'GaussianNB', 'Accuracy': 0.8681318681318682, 'Balanced Accuracy': 0.8690243902439024, 'ROC AUC': 0.8690243902439024, 'F1 Score': 0.8683561336622561, 'Time taken': 0.0203707218170166}\n",
      "{'Model': 'KNeighborsClassifier', 'Accuracy': 0.9120879120879121, 'Balanced Accuracy': 0.911219512195122, 'ROC AUC': 0.911219512195122, 'F1 Score': 0.9120879120879121, 'Time taken': 0.014959573745727539}\n",
      "{'Model': 'LabelPropagation', 'Accuracy': 0.8241758241758241, 'Balanced Accuracy': 0.8246341463414634, 'ROC AUC': 0.8246341463414633, 'F1 Score': 0.824474844883008, 'Time taken': 0.03390955924987793}\n"
     ]
    },
    {
     "name": "stderr",
     "output_type": "stream",
     "text": [
      " 66%|█████████████████████████████████████████████████████▋                            | 19/29 [00:00<00:00, 36.70it/s]"
     ]
    },
    {
     "name": "stdout",
     "output_type": "stream",
     "text": [
      "{'Model': 'LabelSpreading', 'Accuracy': 0.8241758241758241, 'Balanced Accuracy': 0.8246341463414634, 'ROC AUC': 0.8246341463414633, 'F1 Score': 0.824474844883008, 'Time taken': 0.04204583168029785}\n",
      "{'Model': 'LinearDiscriminantAnalysis', 'Accuracy': 0.9010989010989011, 'Balanced Accuracy': 0.9034146341463415, 'ROC AUC': 0.9034146341463415, 'F1 Score': 0.9013148161723057, 'Time taken': 0.014983654022216797}\n",
      "{'Model': 'LinearSVC', 'Accuracy': 0.9010989010989011, 'Balanced Accuracy': 0.901219512195122, 'ROC AUC': 0.901219512195122, 'F1 Score': 0.9011951903518169, 'Time taken': 0.03794407844543457}\n",
      "{'Model': 'LogisticRegression', 'Accuracy': 0.9010989010989011, 'Balanced Accuracy': 0.901219512195122, 'ROC AUC': 0.901219512195122, 'F1 Score': 0.9011951903518169, 'Time taken': 0.006975412368774414}\n",
      "{'Model': 'NearestCentroid', 'Accuracy': 0.9340659340659341, 'Balanced Accuracy': 0.9378048780487804, 'ROC AUC': 0.9378048780487804, 'F1 Score': 0.9342256580628673, 'Time taken': 0.01566338539123535}\n",
      "{'Model': 'NuSVC', 'Accuracy': 0.9230769230769231, 'Balanced Accuracy': 0.9212195121951219, 'ROC AUC': 0.921219512195122, 'F1 Score': 0.9229828965802562, 'Time taken': 0.01565074920654297}\n",
      "{'Model': 'PassiveAggressiveClassifier', 'Accuracy': 0.8791208791208791, 'Balanced Accuracy': 0.8724390243902439, 'ROC AUC': 0.8724390243902439, 'F1 Score': 0.8780743066457352, 'Time taken': 0.015582561492919922}\n",
      "{'Model': 'Perceptron', 'Accuracy': 0.8021978021978022, 'Balanced Accuracy': 0.7936585365853659, 'ROC AUC': 0.7936585365853658, 'F1 Score': 0.7999879961151063, 'Time taken': 0.017905235290527344}\n",
      "{'Model': 'QuadraticDiscriminantAnalysis', 'Accuracy': 0.8791208791208791, 'Balanced Accuracy': 0.881219512195122, 'ROC AUC': 0.881219512195122, 'F1 Score': 0.8793847753217067, 'Time taken': 0.008996248245239258}\n"
     ]
    },
    {
     "name": "stderr",
     "output_type": "stream",
     "text": [
      " 97%|███████████████████████████████████████████████████████████████████████████████▏  | 28/29 [00:00<00:00, 32.78it/s]"
     ]
    },
    {
     "name": "stdout",
     "output_type": "stream",
     "text": [
      "{'Model': 'RandomForestClassifier', 'Accuracy': 0.9010989010989011, 'Balanced Accuracy': 0.8990243902439025, 'ROC AUC': 0.8990243902439025, 'F1 Score': 0.900978009888901, 'Time taken': 0.1427757740020752}\n",
      "{'Model': 'RidgeClassifier', 'Accuracy': 0.9010989010989011, 'Balanced Accuracy': 0.9034146341463415, 'ROC AUC': 0.9034146341463415, 'F1 Score': 0.9013148161723057, 'Time taken': 0.015673160552978516}\n",
      "{'Model': 'RidgeClassifierCV', 'Accuracy': 0.9010989010989011, 'Balanced Accuracy': 0.9034146341463415, 'ROC AUC': 0.9034146341463415, 'F1 Score': 0.9013148161723057, 'Time taken': 0.018125534057617188}\n",
      "{'Model': 'SGDClassifier', 'Accuracy': 0.8901098901098901, 'Balanced Accuracy': 0.8934146341463415, 'ROC AUC': 0.8934146341463415, 'F1 Score': 0.8903760967714457, 'Time taken': 0.012008428573608398}\n",
      "{'Model': 'SVC', 'Accuracy': 0.9010989010989011, 'Balanced Accuracy': 0.8990243902439025, 'ROC AUC': 0.8990243902439025, 'F1 Score': 0.900978009888901, 'Time taken': 0.01971745491027832}\n",
      "{'Model': 'XGBClassifier', 'Accuracy': 0.8791208791208791, 'Balanced Accuracy': 0.881219512195122, 'ROC AUC': 0.881219512195122, 'F1 Score': 0.8793847753217067, 'Time taken': 0.062486886978149414}\n"
     ]
    },
    {
     "name": "stderr",
     "output_type": "stream",
     "text": [
      "100%|██████████████████████████████████████████████████████████████████████████████████| 29/29 [00:01<00:00, 27.12it/s]"
     ]
    },
    {
     "name": "stdout",
     "output_type": "stream",
     "text": [
      "{'Model': 'LGBMClassifier', 'Accuracy': 0.8791208791208791, 'Balanced Accuracy': 0.8834146341463415, 'ROC AUC': 0.8834146341463415, 'F1 Score': 0.8794133875803567, 'Time taken': 0.12632131576538086}\n"
     ]
    },
    {
     "name": "stderr",
     "output_type": "stream",
     "text": [
      "\n"
     ]
    },
    {
     "data": {
      "text/html": [
       "<div>\n",
       "<style scoped>\n",
       "    .dataframe tbody tr th:only-of-type {\n",
       "        vertical-align: middle;\n",
       "    }\n",
       "\n",
       "    .dataframe tbody tr th {\n",
       "        vertical-align: top;\n",
       "    }\n",
       "\n",
       "    .dataframe thead th {\n",
       "        text-align: right;\n",
       "    }\n",
       "</style>\n",
       "<table border=\"1\" class=\"dataframe\">\n",
       "  <thead>\n",
       "    <tr style=\"text-align: right;\">\n",
       "      <th></th>\n",
       "      <th>Accuracy</th>\n",
       "      <th>Balanced Accuracy</th>\n",
       "      <th>ROC AUC</th>\n",
       "      <th>F1 Score</th>\n",
       "      <th>Time Taken</th>\n",
       "    </tr>\n",
       "    <tr>\n",
       "      <th>Model</th>\n",
       "      <th></th>\n",
       "      <th></th>\n",
       "      <th></th>\n",
       "      <th></th>\n",
       "      <th></th>\n",
       "    </tr>\n",
       "  </thead>\n",
       "  <tbody>\n",
       "    <tr>\n",
       "      <th>NearestCentroid</th>\n",
       "      <td>0.93</td>\n",
       "      <td>0.94</td>\n",
       "      <td>0.94</td>\n",
       "      <td>0.93</td>\n",
       "      <td>0.02</td>\n",
       "    </tr>\n",
       "    <tr>\n",
       "      <th>BernoulliNB</th>\n",
       "      <td>0.92</td>\n",
       "      <td>0.92</td>\n",
       "      <td>0.92</td>\n",
       "      <td>0.92</td>\n",
       "      <td>0.02</td>\n",
       "    </tr>\n",
       "    <tr>\n",
       "      <th>NuSVC</th>\n",
       "      <td>0.92</td>\n",
       "      <td>0.92</td>\n",
       "      <td>0.92</td>\n",
       "      <td>0.92</td>\n",
       "      <td>0.02</td>\n",
       "    </tr>\n",
       "    <tr>\n",
       "      <th>ExtraTreesClassifier</th>\n",
       "      <td>0.91</td>\n",
       "      <td>0.91</td>\n",
       "      <td>0.91</td>\n",
       "      <td>0.91</td>\n",
       "      <td>0.11</td>\n",
       "    </tr>\n",
       "    <tr>\n",
       "      <th>KNeighborsClassifier</th>\n",
       "      <td>0.91</td>\n",
       "      <td>0.91</td>\n",
       "      <td>0.91</td>\n",
       "      <td>0.91</td>\n",
       "      <td>0.01</td>\n",
       "    </tr>\n",
       "    <tr>\n",
       "      <th>RidgeClassifierCV</th>\n",
       "      <td>0.90</td>\n",
       "      <td>0.90</td>\n",
       "      <td>0.90</td>\n",
       "      <td>0.90</td>\n",
       "      <td>0.02</td>\n",
       "    </tr>\n",
       "    <tr>\n",
       "      <th>RidgeClassifier</th>\n",
       "      <td>0.90</td>\n",
       "      <td>0.90</td>\n",
       "      <td>0.90</td>\n",
       "      <td>0.90</td>\n",
       "      <td>0.02</td>\n",
       "    </tr>\n",
       "    <tr>\n",
       "      <th>LinearDiscriminantAnalysis</th>\n",
       "      <td>0.90</td>\n",
       "      <td>0.90</td>\n",
       "      <td>0.90</td>\n",
       "      <td>0.90</td>\n",
       "      <td>0.01</td>\n",
       "    </tr>\n",
       "    <tr>\n",
       "      <th>LinearSVC</th>\n",
       "      <td>0.90</td>\n",
       "      <td>0.90</td>\n",
       "      <td>0.90</td>\n",
       "      <td>0.90</td>\n",
       "      <td>0.04</td>\n",
       "    </tr>\n",
       "    <tr>\n",
       "      <th>LogisticRegression</th>\n",
       "      <td>0.90</td>\n",
       "      <td>0.90</td>\n",
       "      <td>0.90</td>\n",
       "      <td>0.90</td>\n",
       "      <td>0.01</td>\n",
       "    </tr>\n",
       "    <tr>\n",
       "      <th>CalibratedClassifierCV</th>\n",
       "      <td>0.90</td>\n",
       "      <td>0.90</td>\n",
       "      <td>0.90</td>\n",
       "      <td>0.90</td>\n",
       "      <td>0.11</td>\n",
       "    </tr>\n",
       "    <tr>\n",
       "      <th>SVC</th>\n",
       "      <td>0.90</td>\n",
       "      <td>0.90</td>\n",
       "      <td>0.90</td>\n",
       "      <td>0.90</td>\n",
       "      <td>0.02</td>\n",
       "    </tr>\n",
       "    <tr>\n",
       "      <th>RandomForestClassifier</th>\n",
       "      <td>0.90</td>\n",
       "      <td>0.90</td>\n",
       "      <td>0.90</td>\n",
       "      <td>0.90</td>\n",
       "      <td>0.14</td>\n",
       "    </tr>\n",
       "    <tr>\n",
       "      <th>SGDClassifier</th>\n",
       "      <td>0.89</td>\n",
       "      <td>0.89</td>\n",
       "      <td>0.89</td>\n",
       "      <td>0.89</td>\n",
       "      <td>0.01</td>\n",
       "    </tr>\n",
       "    <tr>\n",
       "      <th>LGBMClassifier</th>\n",
       "      <td>0.88</td>\n",
       "      <td>0.88</td>\n",
       "      <td>0.88</td>\n",
       "      <td>0.88</td>\n",
       "      <td>0.13</td>\n",
       "    </tr>\n",
       "    <tr>\n",
       "      <th>QuadraticDiscriminantAnalysis</th>\n",
       "      <td>0.88</td>\n",
       "      <td>0.88</td>\n",
       "      <td>0.88</td>\n",
       "      <td>0.88</td>\n",
       "      <td>0.01</td>\n",
       "    </tr>\n",
       "    <tr>\n",
       "      <th>XGBClassifier</th>\n",
       "      <td>0.88</td>\n",
       "      <td>0.88</td>\n",
       "      <td>0.88</td>\n",
       "      <td>0.88</td>\n",
       "      <td>0.06</td>\n",
       "    </tr>\n",
       "    <tr>\n",
       "      <th>PassiveAggressiveClassifier</th>\n",
       "      <td>0.88</td>\n",
       "      <td>0.87</td>\n",
       "      <td>0.87</td>\n",
       "      <td>0.88</td>\n",
       "      <td>0.02</td>\n",
       "    </tr>\n",
       "    <tr>\n",
       "      <th>GaussianNB</th>\n",
       "      <td>0.87</td>\n",
       "      <td>0.87</td>\n",
       "      <td>0.87</td>\n",
       "      <td>0.87</td>\n",
       "      <td>0.02</td>\n",
       "    </tr>\n",
       "    <tr>\n",
       "      <th>AdaBoostClassifier</th>\n",
       "      <td>0.87</td>\n",
       "      <td>0.87</td>\n",
       "      <td>0.87</td>\n",
       "      <td>0.87</td>\n",
       "      <td>0.09</td>\n",
       "    </tr>\n",
       "    <tr>\n",
       "      <th>BaggingClassifier</th>\n",
       "      <td>0.85</td>\n",
       "      <td>0.85</td>\n",
       "      <td>0.85</td>\n",
       "      <td>0.85</td>\n",
       "      <td>0.02</td>\n",
       "    </tr>\n",
       "    <tr>\n",
       "      <th>DecisionTreeClassifier</th>\n",
       "      <td>0.85</td>\n",
       "      <td>0.85</td>\n",
       "      <td>0.85</td>\n",
       "      <td>0.85</td>\n",
       "      <td>0.01</td>\n",
       "    </tr>\n",
       "    <tr>\n",
       "      <th>ExtraTreeClassifier</th>\n",
       "      <td>0.84</td>\n",
       "      <td>0.84</td>\n",
       "      <td>0.84</td>\n",
       "      <td>0.84</td>\n",
       "      <td>0.01</td>\n",
       "    </tr>\n",
       "    <tr>\n",
       "      <th>LabelSpreading</th>\n",
       "      <td>0.82</td>\n",
       "      <td>0.82</td>\n",
       "      <td>0.82</td>\n",
       "      <td>0.82</td>\n",
       "      <td>0.04</td>\n",
       "    </tr>\n",
       "    <tr>\n",
       "      <th>LabelPropagation</th>\n",
       "      <td>0.82</td>\n",
       "      <td>0.82</td>\n",
       "      <td>0.82</td>\n",
       "      <td>0.82</td>\n",
       "      <td>0.03</td>\n",
       "    </tr>\n",
       "    <tr>\n",
       "      <th>Perceptron</th>\n",
       "      <td>0.80</td>\n",
       "      <td>0.79</td>\n",
       "      <td>0.79</td>\n",
       "      <td>0.80</td>\n",
       "      <td>0.02</td>\n",
       "    </tr>\n",
       "    <tr>\n",
       "      <th>DummyClassifier</th>\n",
       "      <td>0.56</td>\n",
       "      <td>0.55</td>\n",
       "      <td>0.55</td>\n",
       "      <td>0.56</td>\n",
       "      <td>0.01</td>\n",
       "    </tr>\n",
       "  </tbody>\n",
       "</table>\n",
       "</div>"
      ],
      "text/plain": [
       "                               Accuracy  Balanced Accuracy  ROC AUC  F1 Score  \\\n",
       "Model                                                                           \n",
       "NearestCentroid                    0.93               0.94     0.94      0.93   \n",
       "BernoulliNB                        0.92               0.92     0.92      0.92   \n",
       "NuSVC                              0.92               0.92     0.92      0.92   \n",
       "ExtraTreesClassifier               0.91               0.91     0.91      0.91   \n",
       "KNeighborsClassifier               0.91               0.91     0.91      0.91   \n",
       "RidgeClassifierCV                  0.90               0.90     0.90      0.90   \n",
       "RidgeClassifier                    0.90               0.90     0.90      0.90   \n",
       "LinearDiscriminantAnalysis         0.90               0.90     0.90      0.90   \n",
       "LinearSVC                          0.90               0.90     0.90      0.90   \n",
       "LogisticRegression                 0.90               0.90     0.90      0.90   \n",
       "CalibratedClassifierCV             0.90               0.90     0.90      0.90   \n",
       "SVC                                0.90               0.90     0.90      0.90   \n",
       "RandomForestClassifier             0.90               0.90     0.90      0.90   \n",
       "SGDClassifier                      0.89               0.89     0.89      0.89   \n",
       "LGBMClassifier                     0.88               0.88     0.88      0.88   \n",
       "QuadraticDiscriminantAnalysis      0.88               0.88     0.88      0.88   \n",
       "XGBClassifier                      0.88               0.88     0.88      0.88   \n",
       "PassiveAggressiveClassifier        0.88               0.87     0.87      0.88   \n",
       "GaussianNB                         0.87               0.87     0.87      0.87   \n",
       "AdaBoostClassifier                 0.87               0.87     0.87      0.87   \n",
       "BaggingClassifier                  0.85               0.85     0.85      0.85   \n",
       "DecisionTreeClassifier             0.85               0.85     0.85      0.85   \n",
       "ExtraTreeClassifier                0.84               0.84     0.84      0.84   \n",
       "LabelSpreading                     0.82               0.82     0.82      0.82   \n",
       "LabelPropagation                   0.82               0.82     0.82      0.82   \n",
       "Perceptron                         0.80               0.79     0.79      0.80   \n",
       "DummyClassifier                    0.56               0.55     0.55      0.56   \n",
       "\n",
       "                               Time Taken  \n",
       "Model                                      \n",
       "NearestCentroid                      0.02  \n",
       "BernoulliNB                          0.02  \n",
       "NuSVC                                0.02  \n",
       "ExtraTreesClassifier                 0.11  \n",
       "KNeighborsClassifier                 0.01  \n",
       "RidgeClassifierCV                    0.02  \n",
       "RidgeClassifier                      0.02  \n",
       "LinearDiscriminantAnalysis           0.01  \n",
       "LinearSVC                            0.04  \n",
       "LogisticRegression                   0.01  \n",
       "CalibratedClassifierCV               0.11  \n",
       "SVC                                  0.02  \n",
       "RandomForestClassifier               0.14  \n",
       "SGDClassifier                        0.01  \n",
       "LGBMClassifier                       0.13  \n",
       "QuadraticDiscriminantAnalysis        0.01  \n",
       "XGBClassifier                        0.06  \n",
       "PassiveAggressiveClassifier          0.02  \n",
       "GaussianNB                           0.02  \n",
       "AdaBoostClassifier                   0.09  \n",
       "BaggingClassifier                    0.02  \n",
       "DecisionTreeClassifier               0.01  \n",
       "ExtraTreeClassifier                  0.01  \n",
       "LabelSpreading                       0.04  \n",
       "LabelPropagation                     0.03  \n",
       "Perceptron                           0.02  \n",
       "DummyClassifier                      0.01  "
      ]
     },
     "execution_count": 26,
     "metadata": {},
     "output_type": "execute_result"
    }
   ],
   "source": [
    "clf = LazyClassifier(verbose=4,ignore_warnings=True, custom_metric=None)\n",
    "models,predictions = clf.fit(x_train_fold, x_test_fold, y_train_fold, y_test_fold)\n",
    "\n",
    "models"
   ]
  },
  {
   "cell_type": "markdown",
   "metadata": {
    "id": "ZCvJ0ZRN-Q0z"
   },
   "source": [
    "## **MODELS BUILDING**"
   ]
  },
  {
   "cell_type": "markdown",
   "metadata": {},
   "source": [
    "Based on LazyPredict, we will be developing and fine tuning following 5 Models for Heart Disease Prediction\n",
    "\n",
    "1) NUSVC\n",
    "2) Gradient Booting Classifier\n",
    "3) XG Boost Classifier\n",
    "4) EXTRATRESSCLASSIFIER\n",
    "5) RANDOMFORESTCLASSIFIER\n",
    "\n",
    "In the End Stacking has been performed for best results\n"
   ]
  },
  {
   "cell_type": "markdown",
   "metadata": {
    "id": "KOcvr_8o96uZ"
   },
   "source": [
    "**1. NUSVC**"
   ]
  },
  {
   "cell_type": "code",
   "execution_count": 105,
   "metadata": {
    "id": "EcaSRIhrVb3A"
   },
   "outputs": [
    {
     "name": "stdout",
     "output_type": "stream",
     "text": [
      "List of possible accuracy: [0.7934782608695652, 0.782608695652174, 0.8478260869565217, 0.8369565217391305, 0.8043478260869565, 0.9239130434782609, 0.8804347826086957, 0.8804347826086957, 0.8461538461538461, 0.9120879120879121]\n",
      "\n",
      "Maximum Accuracy That can be obtained from this model is: 92.3913043478261 %\n",
      "\n",
      "Minimum Accuracy: 78.26086956521739 %\n",
      "\n",
      "Overall Accuracy: 85.08241758241758 %\n",
      "\n",
      "Standard Deviation is: 0.04850415005397742\n"
     ]
    }
   ],
   "source": [
    "Model_NuSVC = NuSVC()\n",
    "\n",
    "lst_accu_stratified_NuSVC = []\n",
    "for train_index, test_index in cv.split(x, y):\n",
    "    x_train_fold, x_test_fold = x[train_index], x[test_index]\n",
    "    y_train_fold, y_test_fold = y[train_index], y[test_index]\n",
    "    Model_NuSVC.fit(x_train_fold, y_train_fold)\n",
    "    lst_accu_stratified_NuSVC.append(Model_NuSVC.score(x_test_fold, y_test_fold))\n",
    "  \n",
    "print('List of possible accuracy:', lst_accu_stratified_NuSVC)\n",
    "print('\\nMaximum Accuracy That can be obtained from this model is:',\n",
    "      max(lst_accu_stratified_NuSVC)*100, '%')\n",
    "print('\\nMinimum Accuracy:',\n",
    "      min(lst_accu_stratified_NuSVC)*100, '%')\n",
    "print('\\nOverall Accuracy:',\n",
    "      mean(lst_accu_stratified_NuSVC)*100, '%')\n",
    "print('\\nStandard Deviation is:', stdev(lst_accu_stratified_NuSVC))"
   ]
  },
  {
   "cell_type": "code",
   "execution_count": 106,
   "metadata": {},
   "outputs": [
    {
     "name": "stdout",
     "output_type": "stream",
     "text": [
      "Model Performance NuSVC \n",
      "Accuracy Train: 0.8514986376021798\n",
      "MCC Train: 0.6994572721327352\n",
      "F1 Score Train : 0.8706998813760378\n",
      "\n",
      "Accuracy Test: 0.875\n",
      "MCC Test: 0.746633218777735\n",
      "F1 Score Test : 0.8899521531100477\n",
      "\n",
      "              precision    recall  f1-score   support\n",
      "\n",
      "           0       0.83      0.88      0.86        77\n",
      "           1       0.91      0.87      0.89       107\n",
      "\n",
      "    accuracy                           0.88       184\n",
      "   macro avg       0.87      0.88      0.87       184\n",
      "weighted avg       0.88      0.88      0.88       184\n",
      "\n"
     ]
    }
   ],
   "source": [
    "Model_NuSVC.fit(X_train,y_train)\n",
    "\n",
    "print('Model Performance NuSVC ')\n",
    "print('Accuracy Train: %s' % accuracy_score(Model_NuSVC.predict(X_train),y_train))\n",
    "print('MCC Train: %s' % matthews_corrcoef(Model_NuSVC.predict(X_train),y_train))\n",
    "print('F1 Score Train : %s'% f1_score(Model_NuSVC.predict(X_train),y_train))\n",
    "print()\n",
    "print('Accuracy Test: %s' % accuracy_score(Model_NuSVC.predict(X_test),y_test))\n",
    "print('MCC Test: %s' % matthews_corrcoef(Model_NuSVC.predict(X_test),y_test))\n",
    "print('F1 Score Test : %s'% f1_score(Model_NuSVC.predict(X_test),y_test))\n",
    "print()\n",
    "print(classification_report(Model_NuSVC.predict(X_test),y_test))"
   ]
  },
  {
   "cell_type": "markdown",
   "metadata": {
    "id": "pW358Ymi-BCg"
   },
   "source": [
    "**2. GRADIENT BOOSTING CLASSIFIER**"
   ]
  },
  {
   "cell_type": "code",
   "execution_count": 108,
   "metadata": {
    "id": "04k3M1J54jm8"
   },
   "outputs": [
    {
     "data": {
      "text/plain": [
       "GradientBoostingClassifier()"
      ]
     },
     "execution_count": 108,
     "metadata": {},
     "output_type": "execute_result"
    }
   ],
   "source": [
    "Model_GBC = GradientBoostingClassifier()\n",
    "Model_GBC.fit(X_train,y_train)"
   ]
  },
  {
   "cell_type": "code",
   "execution_count": 109,
   "metadata": {
    "colab": {
     "base_uri": "https://localhost:8080/"
    },
    "id": "xUV26Zn46iKd",
    "outputId": "ea02e2d7-ef93-4cc6-e2f8-8a8a240651b5"
   },
   "outputs": [
    {
     "name": "stdout",
     "output_type": "stream",
     "text": [
      "List of possible accuracy: [0.8478260869565217, 0.7717391304347826, 0.9130434782608695, 0.8260869565217391, 0.8586956521739131, 0.9130434782608695, 0.8804347826086957, 0.9239130434782609, 0.8791208791208791, 0.8791208791208791]\n",
      "\n",
      "Maximum Accuracy That can be obtained from this model is: 92.3913043478261 %\n",
      "\n",
      "Minimum Accuracy: 77.17391304347827 %\n",
      "\n",
      "Overall Accuracy: 86.93024366937411 %\n",
      "\n",
      "Standard Deviation is: 0.046050120626756785\n"
     ]
    }
   ],
   "source": [
    "lst_accu_stratified_GBC = []\n",
    "for train_index, test_index in cv.split(x, y):\n",
    "    x_train_fold, x_test_fold = x[train_index], x[test_index]\n",
    "    y_train_fold, y_test_fold = y[train_index], y[test_index]\n",
    "    Model_GBC.fit(x_train_fold, y_train_fold)\n",
    "    lst_accu_stratified_GBC.append(Model_GBC.score(x_test_fold, y_test_fold))\n",
    "  \n",
    "print('List of possible accuracy:', lst_accu_stratified_GBC)\n",
    "print('\\nMaximum Accuracy That can be obtained from this model is:',\n",
    "      max(lst_accu_stratified_GBC)*100, '%')\n",
    "print('\\nMinimum Accuracy:',\n",
    "      min(lst_accu_stratified_GBC)*100, '%')\n",
    "print('\\nOverall Accuracy:',\n",
    "      mean(lst_accu_stratified_GBC)*100, '%')\n",
    "print('\\nStandard Deviation is:', stdev(lst_accu_stratified_GBC))"
   ]
  },
  {
   "cell_type": "code",
   "execution_count": 110,
   "metadata": {
    "colab": {
     "base_uri": "https://localhost:8080/"
    },
    "id": "JX4pGRkw6rSV",
    "outputId": "c2edb7c0-d482-4797-a9c4-fd20d3a5fe3d"
   },
   "outputs": [
    {
     "name": "stdout",
     "output_type": "stream",
     "text": [
      "Model Performance GRADIENT BOOSTING \n",
      "Accuracy Train: 0.9373297002724795\n",
      "MCC Train: 0.873132298894877\n",
      "F1 Score Train : 0.9436274509803921\n",
      "\n",
      "Accuracy Test: 0.9565217391304348\n",
      "MCC Test: 0.9120038259206121\n",
      "F1 Score Test : 0.9607843137254902\n",
      "\n",
      "              precision    recall  f1-score   support\n",
      "\n",
      "           0       0.95      0.95      0.95        82\n",
      "           1       0.96      0.96      0.96       102\n",
      "\n",
      "    accuracy                           0.96       184\n",
      "   macro avg       0.96      0.96      0.96       184\n",
      "weighted avg       0.96      0.96      0.96       184\n",
      "\n"
     ]
    }
   ],
   "source": [
    "print('Model Performance GRADIENT BOOSTING ')\n",
    "print('Accuracy Train: %s' % accuracy_score(Model_GBC.predict(X_train),y_train))\n",
    "print('MCC Train: %s' % matthews_corrcoef(Model_GBC.predict(X_train),y_train))\n",
    "print('F1 Score Train : %s'% f1_score(Model_GBC.predict(X_train),y_train))\n",
    "print()\n",
    "print('Accuracy Test: %s' % accuracy_score(Model_GBC.predict(X_test),y_test))\n",
    "print('MCC Test: %s' % matthews_corrcoef(Model_GBC.predict(X_test),y_test))\n",
    "print('F1 Score Test : %s'% f1_score(Model_GBC.predict(X_test),y_test))\n",
    "print()\n",
    "print(classification_report(Model_GBC.predict(X_test),y_test))"
   ]
  },
  {
   "cell_type": "markdown",
   "metadata": {
    "id": "at0WWVmo-Fxv"
   },
   "source": [
    "**3. XGBOOST**"
   ]
  },
  {
   "cell_type": "code",
   "execution_count": 111,
   "metadata": {
    "id": "Tie4f4Mz97Ks"
   },
   "outputs": [],
   "source": [
    "from xgboost import XGBClassifier\n",
    "Model_XGB = XGBClassifier()"
   ]
  },
  {
   "cell_type": "code",
   "execution_count": 112,
   "metadata": {
    "colab": {
     "base_uri": "https://localhost:8080/"
    },
    "id": "umyyaxDh_zIs",
    "outputId": "2758a5a3-ea89-44dd-c0e8-3f14de70660d"
   },
   "outputs": [
    {
     "name": "stdout",
     "output_type": "stream",
     "text": [
      "List of possible accuracy: [0.8369565217391305, 0.782608695652174, 0.9021739130434783, 0.8369565217391305, 0.8804347826086957, 0.9239130434782609, 0.8695652173913043, 0.8804347826086957, 0.8021978021978022, 0.8791208791208791]\n",
      "\n",
      "Maximum Accuracy That can be obtained from this model is: 92.3913043478261 %\n",
      "\n",
      "Minimum Accuracy: 78.26086956521739 %\n",
      "\n",
      "Overall Accuracy: 85.94362159579552 %\n",
      "\n",
      "Standard Deviation is: 0.04415265370955174\n"
     ]
    }
   ],
   "source": [
    "lst_accu_stratified_XGB = []\n",
    "for train_index, test_index in cv.split(x, y):\n",
    "    x_train_fold, x_test_fold = x[train_index], x[test_index]\n",
    "    y_train_fold, y_test_fold = y[train_index], y[test_index]\n",
    "    Model_XGB.fit(x_train_fold, y_train_fold)\n",
    "    lst_accu_stratified_XGB.append(Model_XGB.score(x_test_fold, y_test_fold))\n",
    "  \n",
    "print('List of possible accuracy:', lst_accu_stratified_XGB)\n",
    "print('\\nMaximum Accuracy That can be obtained from this model is:',\n",
    "      max(lst_accu_stratified_XGB)*100, '%')\n",
    "print('\\nMinimum Accuracy:',\n",
    "      min(lst_accu_stratified_XGB)*100, '%')\n",
    "print('\\nOverall Accuracy:',\n",
    "      mean(lst_accu_stratified_XGB)*100, '%')\n",
    "print('\\nStandard Deviation is:', stdev(lst_accu_stratified_XGB))"
   ]
  },
  {
   "cell_type": "code",
   "execution_count": 113,
   "metadata": {
    "colab": {
     "base_uri": "https://localhost:8080/"
    },
    "id": "sojEVXgUAINL",
    "outputId": "49f024cd-a9da-4f67-aa04-09016c605620"
   },
   "outputs": [
    {
     "name": "stdout",
     "output_type": "stream",
     "text": [
      "Model Performance XGBOOST \n",
      "Accuracy Train: 0.9877384196185286\n",
      "MCC Train: 0.9752077070247509\n",
      "F1 Score Train : 0.9889025893958077\n",
      "\n",
      "Accuracy Test: 0.9891304347826086\n",
      "MCC Test: 0.978289060789934\n",
      "F1 Score Test : 0.99009900990099\n",
      "\n",
      "              precision    recall  f1-score   support\n",
      "\n",
      "           0       1.00      0.98      0.99        84\n",
      "           1       0.98      1.00      0.99       100\n",
      "\n",
      "    accuracy                           0.99       184\n",
      "   macro avg       0.99      0.99      0.99       184\n",
      "weighted avg       0.99      0.99      0.99       184\n",
      "\n"
     ]
    }
   ],
   "source": [
    "print('Model Performance XGBOOST ')\n",
    "print('Accuracy Train: %s' % accuracy_score(Model_XGB.predict(X_train),y_train))\n",
    "print('MCC Train: %s' % matthews_corrcoef(Model_XGB.predict(X_train),y_train))\n",
    "print('F1 Score Train : %s'% f1_score(Model_XGB.predict(X_train),y_train))\n",
    "print()\n",
    "print('Accuracy Test: %s' % accuracy_score(Model_XGB.predict(X_test),y_test))\n",
    "print('MCC Test: %s' % matthews_corrcoef(Model_XGB.predict(X_test),y_test))\n",
    "print('F1 Score Test : %s'% f1_score(Model_XGB.predict(X_test),y_test))\n",
    "print()\n",
    "print(classification_report(Model_XGB.predict(X_test),y_test))"
   ]
  },
  {
   "cell_type": "markdown",
   "metadata": {
    "id": "_jH8BJWr-N6P"
   },
   "source": [
    "**4. EXTRATRESSCLASSIFIER**"
   ]
  },
  {
   "cell_type": "code",
   "execution_count": 125,
   "metadata": {
    "id": "QFN0msgYALsr"
   },
   "outputs": [],
   "source": [
    "from sklearn.ensemble import ExtraTreesClassifier,RandomForestClassifier,StackingClassifier,GradientBoostingClassifier\n",
    "Model_ETREE = ExtraTreesClassifier()"
   ]
  },
  {
   "cell_type": "code",
   "execution_count": 126,
   "metadata": {
    "colab": {
     "base_uri": "https://localhost:8080/"
    },
    "id": "v1k8hBAHAtU7",
    "outputId": "0ec79c41-7e09-455b-bff3-e3f72772bc1b"
   },
   "outputs": [
    {
     "name": "stdout",
     "output_type": "stream",
     "text": [
      "List of possible accuracy: [0.8586956521739131, 0.7934782608695652, 0.8913043478260869, 0.8369565217391305, 0.8478260869565217, 0.9565217391304348, 0.8804347826086957, 0.8913043478260869, 0.8571428571428571, 0.8901098901098901]\n",
      "\n",
      "Maximum Accuracy That can be obtained from this model is: 95.65217391304348 %\n",
      "\n",
      "Minimum Accuracy: 79.34782608695652 %\n",
      "\n",
      "Overall Accuracy: 87.03774486383182 %\n",
      "\n",
      "Standard Deviation is: 0.04299593565459474\n"
     ]
    }
   ],
   "source": [
    "lst_accu_stratified_ETREE = []\n",
    "for train_index, test_index in cv.split(x, y):\n",
    "    x_train_fold, x_test_fold = x[train_index], x[test_index]\n",
    "    y_train_fold, y_test_fold = y[train_index], y[test_index]\n",
    "    Model_ETREE.fit(x_train_fold, y_train_fold)\n",
    "    lst_accu_stratified_ETREE.append(Model_ETREE.score(x_test_fold, y_test_fold))\n",
    "  \n",
    "print('List of possible accuracy:', lst_accu_stratified_ETREE)\n",
    "print('\\nMaximum Accuracy That can be obtained from this model is:',\n",
    "      max(lst_accu_stratified_ETREE)*100, '%')\n",
    "print('\\nMinimum Accuracy:',\n",
    "      min(lst_accu_stratified_ETREE)*100, '%')\n",
    "print('\\nOverall Accuracy:',\n",
    "      mean(lst_accu_stratified_ETREE)*100, '%')\n",
    "print('\\nStandard Deviation is:', stdev(lst_accu_stratified_ETREE))"
   ]
  },
  {
   "cell_type": "code",
   "execution_count": 127,
   "metadata": {
    "colab": {
     "base_uri": "https://localhost:8080/"
    },
    "id": "d-v7m2YeAzPQ",
    "outputId": "3734161b-f715-4309-be1d-5af49fe5e2cb"
   },
   "outputs": [
    {
     "data": {
      "text/plain": [
       "ExtraTreesClassifier()"
      ]
     },
     "execution_count": 127,
     "metadata": {},
     "output_type": "execute_result"
    }
   ],
   "source": [
    "Model_ETREE.fit(X_train,y_train)"
   ]
  },
  {
   "cell_type": "code",
   "execution_count": 128,
   "metadata": {
    "colab": {
     "base_uri": "https://localhost:8080/"
    },
    "id": "d0DEZe3KBE3r",
    "outputId": "7724b8b2-d504-41f6-dfd9-8c3ab5643055"
   },
   "outputs": [
    {
     "name": "stdout",
     "output_type": "stream",
     "text": [
      "Model Performance EXTRA TRESS CLASSIFIER\n",
      "Accuracy Train: 1.0\n",
      "MCC Train: 1.0\n",
      "F1 Score Train : 1.0\n",
      "\n",
      "Accuracy Test: 0.8804347826086957\n",
      "MCC Test: 0.7579384823238913\n",
      "F1 Score Test : 0.8952380952380952\n",
      "\n",
      "              precision    recall  f1-score   support\n",
      "\n",
      "           0       0.83      0.89      0.86        76\n",
      "           1       0.92      0.87      0.90       108\n",
      "\n",
      "    accuracy                           0.88       184\n",
      "   macro avg       0.88      0.88      0.88       184\n",
      "weighted avg       0.88      0.88      0.88       184\n",
      "\n"
     ]
    }
   ],
   "source": [
    "print('Model Performance EXTRA TRESS CLASSIFIER')\n",
    "print('Accuracy Train: %s' % accuracy_score(Model_ETREE.predict(X_train),y_train))\n",
    "print('MCC Train: %s' % matthews_corrcoef(Model_ETREE.predict(X_train),y_train))\n",
    "print('F1 Score Train : %s'% f1_score(Model_ETREE.predict(X_train),y_train))\n",
    "print()\n",
    "print('Accuracy Test: %s' % accuracy_score(Model_ETREE.predict(X_test),y_test))\n",
    "print('MCC Test: %s' % matthews_corrcoef(Model_ETREE.predict(X_test),y_test))\n",
    "print('F1 Score Test : %s'% f1_score(Model_ETREE.predict(X_test),y_test))\n",
    "print()\n",
    "print(classification_report(Model_ETREE.predict(X_test),y_test))"
   ]
  },
  {
   "cell_type": "markdown",
   "metadata": {
    "id": "dMOs73gf-Sf1"
   },
   "source": [
    "**5. RANDOMFORESTCLASSIFIER**"
   ]
  },
  {
   "cell_type": "code",
   "execution_count": 129,
   "metadata": {
    "id": "jciflOvsBJR7"
   },
   "outputs": [],
   "source": [
    "Model_RFC = RandomForestClassifier()"
   ]
  },
  {
   "cell_type": "code",
   "execution_count": 130,
   "metadata": {
    "colab": {
     "base_uri": "https://localhost:8080/"
    },
    "id": "6fFsbmqhBaj7",
    "outputId": "044124a2-6efc-4906-887e-94e14daa0992"
   },
   "outputs": [
    {
     "name": "stdout",
     "output_type": "stream",
     "text": [
      "List of possible accuracy: [0.8695652173913043, 0.782608695652174, 0.8913043478260869, 0.8260869565217391, 0.8369565217391305, 0.9239130434782609, 0.8913043478260869, 0.8913043478260869, 0.8571428571428571, 0.8901098901098901]\n",
      "\n",
      "Maximum Accuracy That can be obtained from this model is: 92.3913043478261 %\n",
      "\n",
      "Minimum Accuracy: 78.26086956521739 %\n",
      "\n",
      "Overall Accuracy: 86.60296225513616 %\n",
      "\n",
      "Standard Deviation is: 0.04128218980039049\n"
     ]
    }
   ],
   "source": [
    "lst_accu_stratified_RFC = []\n",
    "for train_index, test_index in cv.split(x, y):\n",
    "    x_train_fold, x_test_fold = x[train_index], x[test_index]\n",
    "    y_train_fold, y_test_fold = y[train_index], y[test_index]\n",
    "    Model_RFC.fit(x_train_fold, y_train_fold)\n",
    "    lst_accu_stratified_RFC.append(Model_RFC.score(x_test_fold, y_test_fold))\n",
    "  \n",
    "print('List of possible accuracy:', lst_accu_stratified_RFC)\n",
    "print('\\nMaximum Accuracy That can be obtained from this model is:',\n",
    "      max(lst_accu_stratified_RFC)*100, '%')\n",
    "print('\\nMinimum Accuracy:',\n",
    "      min(lst_accu_stratified_RFC)*100, '%')\n",
    "print('\\nOverall Accuracy:',\n",
    "      mean(lst_accu_stratified_RFC)*100, '%')\n",
    "print('\\nStandard Deviation is:', stdev(lst_accu_stratified_RFC))"
   ]
  },
  {
   "cell_type": "code",
   "execution_count": 131,
   "metadata": {
    "colab": {
     "base_uri": "https://localhost:8080/"
    },
    "id": "S541nwOPBgUc",
    "outputId": "90481c05-8f38-46a4-977f-783aca617dc3"
   },
   "outputs": [
    {
     "data": {
      "text/plain": [
       "RandomForestClassifier()"
      ]
     },
     "execution_count": 131,
     "metadata": {},
     "output_type": "execute_result"
    }
   ],
   "source": [
    "Model_RFC.fit(X_train,y_train)"
   ]
  },
  {
   "cell_type": "code",
   "execution_count": 132,
   "metadata": {
    "colab": {
     "base_uri": "https://localhost:8080/"
    },
    "id": "sng7HqI0BnQr",
    "outputId": "6e75e0fc-2504-4a76-e5c7-c2edea37153f"
   },
   "outputs": [
    {
     "name": "stdout",
     "output_type": "stream",
     "text": [
      "Model Performance RANDOM FORREST \n",
      "Accuracy Train: 1.0\n",
      "MCC Train: 1.0\n",
      "F1 Score Train : 1.0\n",
      "\n",
      "Accuracy Test: 0.8695652173913043\n",
      "MCC Test: 0.7360114777618364\n",
      "F1 Score Test : 0.8823529411764706\n",
      "\n",
      "              precision    recall  f1-score   support\n",
      "\n",
      "           0       0.85      0.85      0.85        82\n",
      "           1       0.88      0.88      0.88       102\n",
      "\n",
      "    accuracy                           0.87       184\n",
      "   macro avg       0.87      0.87      0.87       184\n",
      "weighted avg       0.87      0.87      0.87       184\n",
      "\n"
     ]
    }
   ],
   "source": [
    "print('Model Performance RANDOM FORREST ')\n",
    "print('Accuracy Train: %s' % accuracy_score(Model_RFC.predict(X_train),y_train))\n",
    "print('MCC Train: %s' % matthews_corrcoef(Model_RFC.predict(X_train),y_train))\n",
    "print('F1 Score Train : %s'% f1_score(Model_RFC.predict(X_train),y_train))\n",
    "print()\n",
    "print('Accuracy Test: %s' % accuracy_score(Model_RFC.predict(X_test),y_test))\n",
    "print('MCC Test: %s' % matthews_corrcoef(Model_RFC.predict(X_test),y_test))\n",
    "print('F1 Score Test : %s'% f1_score(Model_RFC.predict(X_test),y_test))\n",
    "print()\n",
    "print(classification_report(Model_RFC.predict(X_test),y_test))"
   ]
  },
  {
   "cell_type": "markdown",
   "metadata": {
    "id": "Xuxxq5-X-gLf"
   },
   "source": [
    "## **STACKING**"
   ]
  },
  {
   "cell_type": "markdown",
   "metadata": {
    "id": "OdM76q2GEhte"
   },
   "source": [
    "![An-example-scheme-of-stacking-ensemble-learning.png](data:image/png;base64,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)"
   ]
  },
  {
   "cell_type": "markdown",
   "metadata": {
    "id": "kI648536GNi-"
   },
   "source": [
    "It’s an ensemble of several classifiers, think of it like a team of judges helping to decide together. And yes it uses the predictions from individual classifiers to make a final single prediction"
   ]
  },
  {
   "cell_type": "code",
   "execution_count": 117,
   "metadata": {
    "id": "TzauttZ2EmDb"
   },
   "outputs": [],
   "source": [
    "from sklearn.linear_model import LogisticRegression,LogisticRegressionCV\n",
    "estimator = [\n",
    "            \n",
    "            ('ExtraTreesClassifier',Model_ETREE),\n",
    "            ('RandomForestClassifier',Model_RFC),\n",
    "            ('NuSVC',Model_NuSVC),\n",
    "            ('Gradient Booting Classifier',Model_GBC),\n",
    "            ('XG Boost Classifier',Model_XGB)\n",
    "]\n",
    "\n",
    "stack_model = StackingClassifier(estimators=estimator,final_estimator=LogisticRegression())"
   ]
  },
  {
   "cell_type": "code",
   "execution_count": 118,
   "metadata": {
    "colab": {
     "base_uri": "https://localhost:8080/"
    },
    "id": "m3N_D-EJAveU",
    "outputId": "ef1e5e2d-2766-4081-9fc6-786dda302870"
   },
   "outputs": [
    {
     "name": "stdout",
     "output_type": "stream",
     "text": [
      "List of possible accuracy: [0.8695652173913043, 0.782608695652174, 0.9021739130434783, 0.8478260869565217, 0.8586956521739131, 0.9347826086956522, 0.9130434782608695, 0.8804347826086957, 0.8791208791208791, 0.9010989010989011]\n",
      "\n",
      "Maximum Accuracy That can be obtained from this model is: 93.47826086956522 %\n",
      "\n",
      "Minimum Accuracy: 78.26086956521739 %\n",
      "\n",
      "Overall Accuracy: 87.69350215002389 %\n",
      "\n",
      "Standard Deviation is: 0.04218986113484984\n"
     ]
    }
   ],
   "source": [
    "lst_accu_stratified_Stack = []\n",
    "for train_index, test_index in cv.split(x, y):\n",
    "    x_train_fold, x_test_fold = x[train_index], x[test_index]\n",
    "    y_train_fold, y_test_fold = y[train_index], y[test_index]\n",
    "    stack_model.fit(x_train_fold, y_train_fold)\n",
    "    lst_accu_stratified_Stack.append(stack_model.score(x_test_fold, y_test_fold))\n",
    "  \n",
    "print('List of possible accuracy:', lst_accu_stratified_Stack)\n",
    "print('\\nMaximum Accuracy That can be obtained from this model is:',\n",
    "      max(lst_accu_stratified_Stack)*100, '%')\n",
    "print('\\nMinimum Accuracy:',\n",
    "      min(lst_accu_stratified_Stack)*100, '%')\n",
    "print('\\nOverall Accuracy:',\n",
    "      mean(lst_accu_stratified_Stack)*100, '%')\n",
    "print('\\nStandard Deviation is:', stdev(lst_accu_stratified_Stack))"
   ]
  },
  {
   "cell_type": "code",
   "execution_count": 119,
   "metadata": {
    "colab": {
     "base_uri": "https://localhost:8080/"
    },
    "id": "d8NIvoffCKea",
    "outputId": "00c0ee5e-df69-46da-af98-2057d517cebf"
   },
   "outputs": [
    {
     "name": "stdout",
     "output_type": "stream",
     "text": [
      "List of possible accuracy: [1.0, 1.0, 1.0, 1.0, 1.0, 1.0, 1.0, 1.0, 1.0, 1.0]\n",
      "\n",
      "Maximum Accuracy That can be obtained from this model is: 100.0 %\n",
      "\n",
      "Minimum Accuracy: 100.0 %\n",
      "\n",
      "Overall Accuracy: 100.0 %\n",
      "\n",
      "Standard Deviation is: 0.0\n"
     ]
    }
   ],
   "source": [
    "lst_accu_stratified_StackTrain = []\n",
    "for train_index, test_index in cv.split(x, y):\n",
    "    x_train_fold, x_test_fold = x[train_index], x[test_index]\n",
    "    y_train_fold, y_test_fold = y[train_index], y[test_index]\n",
    "    stack_model.fit(x_train_fold, y_train_fold)\n",
    "    lst_accu_stratified_StackTrain.append(stack_model.score(x_train_fold, y_train_fold))\n",
    "  \n",
    "print('List of possible accuracy:', lst_accu_stratified_StackTrain)\n",
    "print('\\nMaximum Accuracy That can be obtained from this model is:',\n",
    "      max(lst_accu_stratified_StackTrain)*100, '%')\n",
    "print('\\nMinimum Accuracy:',\n",
    "      min(lst_accu_stratified_StackTrain)*100, '%')\n",
    "print('\\nOverall Accuracy:',\n",
    "      mean(lst_accu_stratified_StackTrain)*100, '%')\n",
    "print('\\nStandard Deviation is:', stdev(lst_accu_stratified_StackTrain))"
   ]
  },
  {
   "cell_type": "code",
   "execution_count": 135,
   "metadata": {
    "id": "SB-gx78hGqeT"
   },
   "outputs": [],
   "source": [
    "#stack_model.fit(x_train_fold,y_train_fold)"
   ]
  },
  {
   "cell_type": "code",
   "execution_count": 136,
   "metadata": {
    "id": "lq6X_GLWGxjT"
   },
   "outputs": [],
   "source": [
    "#print(classification_report(stack_model.predict(x_test_fold),y_test_fold))"
   ]
  },
  {
   "cell_type": "code",
   "execution_count": 120,
   "metadata": {
    "colab": {
     "base_uri": "https://localhost:8080/"
    },
    "id": "h_gvC25GHKNj",
    "outputId": "98611154-31e5-41fe-d703-2413555124b6"
   },
   "outputs": [
    {
     "data": {
      "text/plain": [
       "StackingClassifier(estimators=[('ExtraTreesClassifier', ExtraTreesClassifier()),\n",
       "                               ('RandomForestClassifier',\n",
       "                                RandomForestClassifier()),\n",
       "                               ('NuSVC', NuSVC()),\n",
       "                               ('Gradient Booting Classifier',\n",
       "                                GradientBoostingClassifier()),\n",
       "                               ('XG Boost Classifier',\n",
       "                                XGBClassifier(base_score=0.5, booster='gbtree',\n",
       "                                              colsample_bylevel=1,\n",
       "                                              colsample_bynode=1,\n",
       "                                              colsample_bytree=1, gamma=0,\n",
       "                                              gpu_id=-1...\n",
       "                                              interaction_constraints='',\n",
       "                                              learning_rate=0.300000012,\n",
       "                                              max_delta_step=0, max_depth=6,\n",
       "                                              min_child_weight=1, missing=nan,\n",
       "                                              monotone_constraints='()',\n",
       "                                              n_estimators=100, n_jobs=0,\n",
       "                                              num_parallel_tree=1,\n",
       "                                              random_state=0, reg_alpha=0,\n",
       "                                              reg_lambda=1, scale_pos_weight=1,\n",
       "                                              subsample=1, tree_method='exact',\n",
       "                                              validate_parameters=1,\n",
       "                                              verbosity=None))],\n",
       "                   final_estimator=LogisticRegression())"
      ]
     },
     "execution_count": 120,
     "metadata": {},
     "output_type": "execute_result"
    }
   ],
   "source": [
    "stack_model.fit(X_train,y_train)"
   ]
  },
  {
   "cell_type": "code",
   "execution_count": 121,
   "metadata": {
    "colab": {
     "base_uri": "https://localhost:8080/"
    },
    "id": "bJoyOyXvHQhr",
    "outputId": "03207f25-fa72-400c-87f4-d4e240f82ce2"
   },
   "outputs": [
    {
     "name": "stdout",
     "output_type": "stream",
     "text": [
      "Model Performance STACKING MODEL \n",
      "Accuracy Train: 0.9959128065395095\n",
      "MCC Train: 0.9917589340613957\n",
      "MCC Train fold: 0.943706492883453\n",
      "F1 Score Train : 0.996319018404908\n",
      "\n",
      "Accuracy Test: 0.8913043478260869\n",
      "MCC Test: 0.7800095648015304\n",
      "MCC Test fold: 1.0\n",
      "F1 Score Test : 0.9019607843137255\n",
      "\n",
      "              precision    recall  f1-score   support\n",
      "\n",
      "           0       0.88      0.88      0.88        82\n",
      "           1       0.90      0.90      0.90       102\n",
      "\n",
      "    accuracy                           0.89       184\n",
      "   macro avg       0.89      0.89      0.89       184\n",
      "weighted avg       0.89      0.89      0.89       184\n",
      "\n"
     ]
    }
   ],
   "source": [
    "print('Model Performance STACKING MODEL ')\n",
    "print('Accuracy Train: %s' % accuracy_score(stack_model.predict(X_train),y_train))\n",
    "print('MCC Train: %s' % matthews_corrcoef(stack_model.predict(X_train),y_train))\n",
    "print('MCC Train fold: %s' % matthews_corrcoef(stack_model.predict(x_train_fold),y_train_fold))\n",
    "print('F1 Score Train : %s'% f1_score(stack_model.predict(X_train),y_train))\n",
    "print()\n",
    "print('Accuracy Test: %s' % accuracy_score(stack_model.predict(X_test),y_test))\n",
    "print('MCC Test: %s' % matthews_corrcoef(stack_model.predict(X_test),y_test))\n",
    "print('MCC Test fold: %s' % matthews_corrcoef(stack_model.predict(x_test_fold),y_test_fold))\n",
    "print('F1 Score Test : %s'% f1_score(stack_model.predict(X_test),y_test))\n",
    "print()\n",
    "print(classification_report(stack_model.predict(X_test),y_test))"
   ]
  },
  {
   "cell_type": "markdown",
   "metadata": {
    "id": "9SeHrqaa-2MX"
   },
   "source": [
    "**GRID SEARCH**"
   ]
  },
  {
   "cell_type": "code",
   "execution_count": 122,
   "metadata": {
    "id": "z4mP5behM04r"
   },
   "outputs": [],
   "source": [
    "parameters = {\n",
    "\"penalty\" : ['l1', 'l2'],\n",
    "\"loss\" : ['hinge', 'squared_hinge'],\n",
    "\"multi_class\" : ['ovr', 'crammer_singer'],\n",
    "#\"class_weightdict\" :['balanced'],\n",
    "\"C\" : [0.1, 1, 10, 100, 1000],\n",
    "#\"kernel\" : ['rbf','linear'],\n",
    "#\"gamma\" : [ 0.1, 0.01, 0.001, 0.0001]\n",
    "}"
   ]
  },
  {
   "cell_type": "code",
   "execution_count": 133,
   "metadata": {
    "id": "rbxNXbWCPB2O"
   },
   "outputs": [],
   "source": [
    "from sklearn.model_selection import GridSearchCV\n",
    "Search = GridSearchCV(Model_SVC,parameters,cv=cv)\n",
    "#Search.fit(x,y)"
   ]
  },
  {
   "cell_type": "code",
   "execution_count": 75,
   "metadata": {
    "id": "77feca96"
   },
   "outputs": [],
   "source": [
    "# print('Best Score: %s' % Search.best_score_)\n",
    "# print('Best Hyperparameters: %s' % Search.best_params_)"
   ]
  },
  {
   "cell_type": "code",
   "execution_count": 135,
   "metadata": {
    "id": "N0sKyK8MG6_r"
   },
   "outputs": [],
   "source": [
    "ETREE = np.array(lst_accu_stratified_ETREE).reshape(10,1)\n",
    "GBC = np.array(lst_accu_stratified_GBC).reshape(10,1)\n",
    "NuSVC = np.array(lst_accu_stratified_NuSVC).reshape(10,1)\n",
    "Stack = np.array(lst_accu_stratified_Stack).reshape(10,1)\n",
    "XGB = np.array(lst_accu_stratified_XGB).reshape(10,1)\n",
    "RFC = np.array(lst_accu_stratified_RFC).reshape(10,1)\n"
   ]
  },
  {
   "cell_type": "code",
   "execution_count": 141,
   "metadata": {
    "id": "RdLa91ONICzP"
   },
   "outputs": [],
   "source": [
    "Total_Results = np.concatenate((Stack,GNB,GBC,NuSVC,XGB,RFC), axis=1)"
   ]
  },
  {
   "cell_type": "code",
   "execution_count": 138,
   "metadata": {
    "id": "va8sE0NcIFUO"
   },
   "outputs": [],
   "source": [
    "Total_Results = pd.DataFrame(Total_Results,columns=['Stack','GNB','GBC','NuSVC','XGB','RFC'])"
   ]
  },
  {
   "cell_type": "markdown",
   "metadata": {
    "id": "4DtDDSqxQMc_"
   },
   "source": [
    "## **RESULTS**"
   ]
  },
  {
   "cell_type": "code",
   "execution_count": 140,
   "metadata": {},
   "outputs": [
    {
     "data": {
      "text/html": [
       "<div>\n",
       "<style scoped>\n",
       "    .dataframe tbody tr th:only-of-type {\n",
       "        vertical-align: middle;\n",
       "    }\n",
       "\n",
       "    .dataframe tbody tr th {\n",
       "        vertical-align: top;\n",
       "    }\n",
       "\n",
       "    .dataframe thead th {\n",
       "        text-align: right;\n",
       "    }\n",
       "</style>\n",
       "<table border=\"1\" class=\"dataframe\">\n",
       "  <thead>\n",
       "    <tr style=\"text-align: right;\">\n",
       "      <th></th>\n",
       "      <th>Stack</th>\n",
       "      <th>GNB</th>\n",
       "      <th>GBC</th>\n",
       "      <th>NuSVC</th>\n",
       "      <th>XGB</th>\n",
       "      <th>RFC</th>\n",
       "    </tr>\n",
       "  </thead>\n",
       "  <tbody>\n",
       "    <tr>\n",
       "      <th>0</th>\n",
       "      <td>0.87</td>\n",
       "      <td>0.79</td>\n",
       "      <td>0.85</td>\n",
       "      <td>0.79</td>\n",
       "      <td>0.84</td>\n",
       "      <td>0.87</td>\n",
       "    </tr>\n",
       "    <tr>\n",
       "      <th>1</th>\n",
       "      <td>0.78</td>\n",
       "      <td>0.79</td>\n",
       "      <td>0.77</td>\n",
       "      <td>0.78</td>\n",
       "      <td>0.78</td>\n",
       "      <td>0.78</td>\n",
       "    </tr>\n",
       "    <tr>\n",
       "      <th>2</th>\n",
       "      <td>0.90</td>\n",
       "      <td>0.89</td>\n",
       "      <td>0.91</td>\n",
       "      <td>0.85</td>\n",
       "      <td>0.90</td>\n",
       "      <td>0.89</td>\n",
       "    </tr>\n",
       "    <tr>\n",
       "      <th>3</th>\n",
       "      <td>0.85</td>\n",
       "      <td>0.84</td>\n",
       "      <td>0.83</td>\n",
       "      <td>0.84</td>\n",
       "      <td>0.84</td>\n",
       "      <td>0.83</td>\n",
       "    </tr>\n",
       "    <tr>\n",
       "      <th>4</th>\n",
       "      <td>0.86</td>\n",
       "      <td>0.85</td>\n",
       "      <td>0.86</td>\n",
       "      <td>0.80</td>\n",
       "      <td>0.88</td>\n",
       "      <td>0.84</td>\n",
       "    </tr>\n",
       "    <tr>\n",
       "      <th>5</th>\n",
       "      <td>0.93</td>\n",
       "      <td>0.92</td>\n",
       "      <td>0.91</td>\n",
       "      <td>0.92</td>\n",
       "      <td>0.92</td>\n",
       "      <td>0.92</td>\n",
       "    </tr>\n",
       "    <tr>\n",
       "      <th>6</th>\n",
       "      <td>0.91</td>\n",
       "      <td>0.88</td>\n",
       "      <td>0.88</td>\n",
       "      <td>0.88</td>\n",
       "      <td>0.87</td>\n",
       "      <td>0.89</td>\n",
       "    </tr>\n",
       "    <tr>\n",
       "      <th>7</th>\n",
       "      <td>0.88</td>\n",
       "      <td>0.90</td>\n",
       "      <td>0.92</td>\n",
       "      <td>0.88</td>\n",
       "      <td>0.88</td>\n",
       "      <td>0.89</td>\n",
       "    </tr>\n",
       "    <tr>\n",
       "      <th>8</th>\n",
       "      <td>0.88</td>\n",
       "      <td>0.87</td>\n",
       "      <td>0.88</td>\n",
       "      <td>0.85</td>\n",
       "      <td>0.80</td>\n",
       "      <td>0.86</td>\n",
       "    </tr>\n",
       "    <tr>\n",
       "      <th>9</th>\n",
       "      <td>0.90</td>\n",
       "      <td>0.87</td>\n",
       "      <td>0.88</td>\n",
       "      <td>0.91</td>\n",
       "      <td>0.88</td>\n",
       "      <td>0.89</td>\n",
       "    </tr>\n",
       "  </tbody>\n",
       "</table>\n",
       "</div>"
      ],
      "text/plain": [
       "   Stack  GNB  GBC  NuSVC  XGB  RFC\n",
       "0   0.87 0.79 0.85   0.79 0.84 0.87\n",
       "1   0.78 0.79 0.77   0.78 0.78 0.78\n",
       "2   0.90 0.89 0.91   0.85 0.90 0.89\n",
       "3   0.85 0.84 0.83   0.84 0.84 0.83\n",
       "4   0.86 0.85 0.86   0.80 0.88 0.84\n",
       "5   0.93 0.92 0.91   0.92 0.92 0.92\n",
       "6   0.91 0.88 0.88   0.88 0.87 0.89\n",
       "7   0.88 0.90 0.92   0.88 0.88 0.89\n",
       "8   0.88 0.87 0.88   0.85 0.80 0.86\n",
       "9   0.90 0.87 0.88   0.91 0.88 0.89"
      ]
     },
     "execution_count": 140,
     "metadata": {},
     "output_type": "execute_result"
    }
   ],
   "source": [
    "Total_Results"
   ]
  },
  {
   "cell_type": "code",
   "execution_count": null,
   "metadata": {
    "id": "uOhgS6eYKXeH"
   },
   "outputs": [],
   "source": []
  }
 ],
 "metadata": {
  "colab": {
   "collapsed_sections": [],
   "name": "IBAProject.ipynb",
   "provenance": []
  },
  "kernelspec": {
   "display_name": "Python 3",
   "language": "python",
   "name": "python3"
  },
  "language_info": {
   "codemirror_mode": {
    "name": "ipython",
    "version": 3
   },
   "file_extension": ".py",
   "mimetype": "text/x-python",
   "name": "python",
   "nbconvert_exporter": "python",
   "pygments_lexer": "ipython3",
   "version": "3.8.5"
  }
 },
 "nbformat": 4,
 "nbformat_minor": 1
}
